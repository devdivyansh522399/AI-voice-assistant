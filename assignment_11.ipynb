{
  "cells": [
    {
      "cell_type": "markdown",
      "metadata": {
        "id": "view-in-github",
        "colab_type": "text"
      },
      "source": [
        "<a href=\"https://colab.research.google.com/github/devdivyansh522399/AI-voice-assistant/blob/main/assignment_11.ipynb\" target=\"_parent\"><img src=\"https://colab.research.google.com/assets/colab-badge.svg\" alt=\"Open In Colab\"/></a>"
      ]
    },
    {
      "cell_type": "code",
      "source": [
        "a = 10\n",
        "b = 20\n",
        "a+b\n"
      ],
      "metadata": {
        "id": "JucdsFqfGTfn",
        "outputId": "63c975fc-7da4-4e92-e51b-f1fc74a217a1",
        "colab": {
          "base_uri": "https://localhost:8080/"
        }
      },
      "execution_count": 2,
      "outputs": [
        {
          "output_type": "execute_result",
          "data": {
            "text/plain": [
              "30"
            ]
          },
          "metadata": {},
          "execution_count": 2
        }
      ]
    },
    {
      "cell_type": "code",
      "source": [
        "def test(x,y):\n",
        "  return x+y, x*y, x**y\n",
        "test"
      ],
      "metadata": {
        "id": "63ykysGgGZyl",
        "outputId": "9f4b47eb-e24b-4d2c-90e3-58bea2a2715a",
        "colab": {
          "base_uri": "https://localhost:8080/"
        }
      },
      "execution_count": 3,
      "outputs": [
        {
          "output_type": "execute_result",
          "data": {
            "text/plain": [
              "<function __main__.test>"
            ]
          },
          "metadata": {},
          "execution_count": 3
        }
      ]
    },
    {
      "cell_type": "code",
      "source": [
        "print(test(10,20))\n"
      ],
      "metadata": {
        "id": "ihadM1g9HAJ5",
        "outputId": "548a97d1-4f93-462b-e9bf-27245a38e842",
        "colab": {
          "base_uri": "https://localhost:8080/"
        }
      },
      "execution_count": 4,
      "outputs": [
        {
          "output_type": "stream",
          "name": "stdout",
          "text": [
            "(30, 200, 100000000000000000000)\n"
          ]
        }
      ]
    },
    {
      "cell_type": "code",
      "source": [
        "_ , _, _ = test(3,4)\n",
        "_"
      ],
      "metadata": {
        "id": "poWgOrH0LBaX",
        "outputId": "381bbcee-9000-474e-d9ad-0c87a60b32c7",
        "colab": {
          "base_uri": "https://localhost:8080/"
        }
      },
      "execution_count": 5,
      "outputs": [
        {
          "output_type": "execute_result",
          "data": {
            "text/plain": [
              "81"
            ]
          },
          "metadata": {},
          "execution_count": 5
        }
      ]
    },
    {
      "cell_type": "code",
      "source": [
        "def test2(n):\n",
        "  return n*7,n\n"
      ],
      "metadata": {
        "id": "OCzvBTH3aDO7"
      },
      "execution_count": 6,
      "outputs": []
    },
    {
      "cell_type": "code",
      "source": [
        "test2(5)"
      ],
      "metadata": {
        "id": "AHVbSoehbgUe",
        "outputId": "ed8d664b-b8bc-41d0-d3aa-4f5b341f8380",
        "colab": {
          "base_uri": "https://localhost:8080/"
        }
      },
      "execution_count": 7,
      "outputs": [
        {
          "output_type": "execute_result",
          "data": {
            "text/plain": [
              "(35, 5)"
            ]
          },
          "metadata": {},
          "execution_count": 7
        }
      ]
    },
    {
      "cell_type": "code",
      "source": [
        "test2([1,2,3])"
      ],
      "metadata": {
        "id": "DM_GNR6kbh--",
        "outputId": "5fa19073-bdce-4f55-e88f-4aed84df82d9",
        "colab": {
          "base_uri": "https://localhost:8080/"
        }
      },
      "execution_count": 8,
      "outputs": [
        {
          "output_type": "execute_result",
          "data": {
            "text/plain": [
              "([1, 2, 3, 1, 2, 3, 1, 2, 3, 1, 2, 3, 1, 2, 3, 1, 2, 3, 1, 2, 3], [1, 2, 3])"
            ]
          },
          "metadata": {},
          "execution_count": 8
        }
      ]
    },
    {
      "cell_type": "code",
      "source": [
        "def table( b, a):\n",
        "  return b*a\n",
        "table(_, 1)"
      ],
      "metadata": {
        "id": "h6HiX6V3bniS",
        "outputId": "2c55dbdd-6fc4-4eee-9a07-ce509b8ad984",
        "colab": {
          "base_uri": "https://localhost:8080/"
        }
      },
      "execution_count": 9,
      "outputs": [
        {
          "output_type": "execute_result",
          "data": {
            "text/plain": [
              "([1, 2, 3, 1, 2, 3, 1, 2, 3, 1, 2, 3, 1, 2, 3, 1, 2, 3, 1, 2, 3], [1, 2, 3])"
            ]
          },
          "metadata": {},
          "execution_count": 9
        }
      ]
    },
    {
      "cell_type": "code",
      "source": [
        "def sum(*args):\n",
        "  l = []\n",
        "  for i in args:\n",
        "    l = l+i\n",
        "  return l\n"
      ],
      "metadata": {
        "id": "KNgVyYkRdxQ5"
      },
      "execution_count": 10,
      "outputs": []
    },
    {
      "cell_type": "code",
      "source": [
        "sum([1,2,3,4],[2,3,4],[3,4,34])"
      ],
      "metadata": {
        "id": "h_YVhLw1fAbV",
        "outputId": "5cbde480-25b2-47a9-ece5-f2da23eb1fb2",
        "colab": {
          "base_uri": "https://localhost:8080/"
        }
      },
      "execution_count": 11,
      "outputs": [
        {
          "output_type": "execute_result",
          "data": {
            "text/plain": [
              "[1, 2, 3, 4, 2, 3, 4, 3, 4, 34]"
            ]
          },
          "metadata": {},
          "execution_count": 11
        }
      ]
    },
    {
      "cell_type": "code",
      "source": [
        "def mul(**kwargs):\n",
        "  return kwargs\n",
        "mul(a=2, b=3, c=4)"
      ],
      "metadata": {
        "id": "m7LweW64fCZo",
        "outputId": "b060227a-abae-47c1-d75c-2b029706ac8d",
        "colab": {
          "base_uri": "https://localhost:8080/"
        }
      },
      "execution_count": 12,
      "outputs": [
        {
          "output_type": "execute_result",
          "data": {
            "text/plain": [
              "{'a': 2, 'b': 3, 'c': 4}"
            ]
          },
          "metadata": {},
          "execution_count": 12
        }
      ]
    },
    {
      "cell_type": "code",
      "source": [
        "def func(*args):\n",
        "  dt = {}\n",
        "  for i in args:\n",
        "    if(type(i) in dt):\n",
        "      dt[type(i)].append(i)\n",
        "    else:\n",
        "      dt[type(i)]= [i]\n",
        "  return dt\n",
        "func(1,2,3,[1,2],6+7j,5,55.5)"
      ],
      "metadata": {
        "id": "bU4f5gXLn173",
        "outputId": "f8bf0375-0a21-42f5-fe59-91150c06245d",
        "colab": {
          "base_uri": "https://localhost:8080/"
        }
      },
      "execution_count": 13,
      "outputs": [
        {
          "output_type": "execute_result",
          "data": {
            "text/plain": [
              "{complex: [(6+7j)], float: [55.5], int: [1, 2, 3, 5], list: [[1, 2]]}"
            ]
          },
          "metadata": {},
          "execution_count": 13
        }
      ]
    },
    {
      "cell_type": "code",
      "source": [
        "def tst(**kwargs):\n",
        "  print(kwargs)"
      ],
      "metadata": {
        "id": "x7BbmXKAAg17"
      },
      "execution_count": 15,
      "outputs": []
    },
    {
      "cell_type": "code",
      "source": [
        "tst(a=4, b=2, v=5)"
      ],
      "metadata": {
        "id": "LyZU8A4zuxw2",
        "outputId": "97924941-b4be-4252-9194-dcbb9521e7c6",
        "colab": {
          "base_uri": "https://localhost:8080/"
        }
      },
      "execution_count": 16,
      "outputs": [
        {
          "output_type": "stream",
          "name": "stdout",
          "text": [
            "{'a': 4, 'b': 2, 'v': 5}\n"
          ]
        }
      ]
    },
    {
      "cell_type": "code",
      "source": [
        "st = '[@_!#$%^&*()<>?/\\|}{~:]'\n",
        "s = input()\n",
        "b = False\n",
        "for i in s:\n",
        "  if i in st:\n",
        "    b = True\n",
        "    break\n",
        "if(b):\n",
        "  print(\"YES\")\n",
        "else:\n",
        "  print(\"NO\")"
      ],
      "metadata": {
        "id": "G7x76z8kvJgu",
        "outputId": "b3c12f11-c394-403d-a6b7-270fb4a5eb0b",
        "colab": {
          "base_uri": "https://localhost:8080/"
        }
      },
      "execution_count": 2,
      "outputs": [
        {
          "output_type": "stream",
          "name": "stdout",
          "text": [
            "@#div\n",
            "YES\n"
          ]
        }
      ]
    },
    {
      "cell_type": "code",
      "source": [
        ""
      ],
      "metadata": {
        "id": "bdSiXypfgy7t"
      },
      "execution_count": null,
      "outputs": []
    }
  ],
  "metadata": {
    "colab": {
      "collapsed_sections": [],
      "name": "Welcome To Colaboratory",
      "provenance": [],
      "include_colab_link": true
    },
    "kernelspec": {
      "display_name": "Python 3",
      "name": "python3"
    }
  },
  "nbformat": 4,
  "nbformat_minor": 0
}