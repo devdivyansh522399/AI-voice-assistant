{
  "cells": [
    {
      "cell_type": "markdown",
      "metadata": {
        "id": "view-in-github",
        "colab_type": "text"
      },
      "source": [
        "<a href=\"https://colab.research.google.com/github/devdivyansh522399/AI-voice-assistant/blob/main/day_02_loop.ipynb\" target=\"_parent\"><img src=\"https://colab.research.google.com/assets/colab-badge.svg\" alt=\"Open In Colab\"/></a>"
      ]
    },
    {
      "cell_type": "code",
      "execution_count": null,
      "metadata": {
        "id": "uJSW2a05YU7o",
        "outputId": "2149add3-84e6-4684-ecfb-6161d4742549"
      },
      "outputs": [
        {
          "name": "stdout",
          "output_type": "stream",
          "text": [
            "1\n",
            "2\n",
            "3\n",
            "4\n",
            "5\n",
            "no 10 rs notes are available \n"
          ]
        }
      ],
      "source": [
        "notes = 5 \n",
        "i = 1 \n",
        "j = 1\n",
        "while i < notes:\n",
        "    print(i)\n",
        "    i += 1\n",
        "else :\n",
        "    \n",
        "    while j < 2 :\n",
        "        print(i)\n",
        "        j = j + 1 \n",
        "    print(\"no 10 rs notes are available \")"
      ]
    },
    {
      "cell_type": "code",
      "execution_count": null,
      "metadata": {
        "id": "TnWm999RYU7y"
      },
      "outputs": [],
      "source": [
        "s = \"my name is sudhanshu\""
      ]
    },
    {
      "cell_type": "code",
      "execution_count": null,
      "metadata": {
        "id": "xMTfiKsfYU70",
        "outputId": "2e40bf65-014c-40de-b7f8-311f11d3cca7"
      },
      "outputs": [
        {
          "data": {
            "text/plain": [
              "'my name is sudhanshu'"
            ]
          },
          "execution_count": 32,
          "metadata": {},
          "output_type": "execute_result"
        }
      ],
      "source": [
        "s"
      ]
    },
    {
      "cell_type": "code",
      "execution_count": null,
      "metadata": {
        "id": "zdGvyv-lYU72",
        "outputId": "02e004ba-2ff9-435b-d9bd-233f0e4738f4"
      },
      "outputs": [
        {
          "data": {
            "text/plain": [
              "' name is sud'"
            ]
          },
          "execution_count": 33,
          "metadata": {},
          "output_type": "execute_result"
        }
      ],
      "source": [
        "s[2:-6]"
      ]
    },
    {
      "cell_type": "code",
      "execution_count": null,
      "metadata": {
        "id": "AYJS2kmsYU74",
        "outputId": "a9650574-11e4-4b89-a226-72de7cf928b4"
      },
      "outputs": [
        {
          "data": {
            "text/plain": [
              "'nm s'"
            ]
          },
          "execution_count": 15,
          "metadata": {},
          "output_type": "execute_result"
        }
      ],
      "source": [
        "s[3:10:2]"
      ]
    },
    {
      "cell_type": "code",
      "execution_count": null,
      "metadata": {
        "id": "U73NZhSTYU78",
        "outputId": "5f447cea-0e51-4474-8363-4cfe79e3f5d9"
      },
      "outputs": [
        {
          "data": {
            "text/plain": [
              "'uhsnahdus si eman ym'"
            ]
          },
          "execution_count": 22,
          "metadata": {},
          "output_type": "execute_result"
        }
      ],
      "source": [
        "s[::-1]"
      ]
    },
    {
      "cell_type": "code",
      "execution_count": null,
      "metadata": {
        "id": "zfN8hYuqYU7_",
        "outputId": "6a3193d8-f6df-4bdf-9be6-6ef806b281d3"
      },
      "outputs": [
        {
          "data": {
            "text/plain": [
              "' name is sud'"
            ]
          },
          "execution_count": 23,
          "metadata": {},
          "output_type": "execute_result"
        }
      ],
      "source": [
        "s[2:-6]"
      ]
    },
    {
      "cell_type": "code",
      "execution_count": null,
      "metadata": {
        "id": "R7WG-xuzYU8C"
      },
      "outputs": [],
      "source": [
        "s = \"sudh\""
      ]
    },
    {
      "cell_type": "code",
      "execution_count": null,
      "metadata": {
        "id": "vIQF4GBOYU8E",
        "outputId": "1262951a-55f3-4207-fa25-914f7f939245"
      },
      "outputs": [
        {
          "data": {
            "text/plain": [
              "'s'"
            ]
          },
          "execution_count": 28,
          "metadata": {},
          "output_type": "execute_result"
        }
      ],
      "source": [
        "s[0]"
      ]
    },
    {
      "cell_type": "code",
      "execution_count": null,
      "metadata": {
        "id": "PChEyOwcYU8H",
        "outputId": "72fa78c1-72bd-401f-90c0-eeb4e707cdfa"
      },
      "outputs": [
        {
          "data": {
            "text/plain": [
              "'my name is sudhanshu'"
            ]
          },
          "execution_count": 34,
          "metadata": {},
          "output_type": "execute_result"
        }
      ],
      "source": [
        "s"
      ]
    },
    {
      "cell_type": "code",
      "execution_count": null,
      "metadata": {
        "id": "EXe74qRHYU8J",
        "outputId": "034c303f-c32b-40a2-fc94-f200c458fe3c"
      },
      "outputs": [
        {
          "name": "stdout",
          "output_type": "stream",
          "text": [
            "m\n",
            "y\n",
            " \n",
            "n\n",
            "a\n",
            "m\n",
            "e\n",
            " \n",
            "i\n",
            " i got s as a string \n",
            "s\n",
            " \n",
            " i got s as a string \n",
            "s\n",
            "u\n",
            "d\n",
            "h\n",
            "a\n",
            "n\n",
            " i got s as a string \n",
            "s\n",
            "h\n",
            "u\n"
          ]
        }
      ],
      "source": [
        "for i in s :\n",
        "    if i == 's':\n",
        "        print(\" i got s as a string \")\n",
        "    print(i)"
      ]
    },
    {
      "cell_type": "code",
      "execution_count": null,
      "metadata": {
        "id": "d9qXqZkTYU8M",
        "outputId": "b0e25eec-5998-4036-d640-4adb8b9a8d1e"
      },
      "outputs": [
        {
          "data": {
            "text/plain": [
              "'my name is sudhanshu'"
            ]
          },
          "execution_count": 37,
          "metadata": {},
          "output_type": "execute_result"
        }
      ],
      "source": [
        "s "
      ]
    },
    {
      "cell_type": "code",
      "execution_count": null,
      "metadata": {
        "id": "Uqc7hsMRYU8R",
        "outputId": "d8857009-b76c-43a3-c681-cb54376508d6"
      },
      "outputs": [
        {
          "name": "stdout",
          "output_type": "stream",
          "text": [
            "m\n",
            "y\n",
            " \n",
            "a\n",
            "m\n",
            "e\n",
            " \n",
            "i\n",
            "s\n",
            " \n",
            "s\n",
            "u\n",
            "d\n",
            "h\n",
            "a\n",
            "s\n",
            "h\n",
            "u\n",
            "last char was u \n",
            "this is a else condtion \n"
          ]
        }
      ],
      "source": [
        "for i in s :\n",
        "    if i == \"n\":\n",
        "        continue \n",
        "    print(i)\n",
        "else :\n",
        "    if i == 'u':\n",
        "        print(\"last char was u \")\n",
        "    print(\"this is a else condtion \")"
      ]
    },
    {
      "cell_type": "code",
      "execution_count": null,
      "metadata": {
        "id": "yvwkiF2VYU8V"
      },
      "outputs": [],
      "source": [
        "s =  \"ineuron\"\n",
        "ss = \"\"\n",
        "for i in range(len(s)):\n",
        "    if s[i] == \"n\":\n",
        "        continue\n",
        "    else :\n",
        "        ss = ss + s[i]"
      ]
    },
    {
      "cell_type": "code",
      "execution_count": null,
      "metadata": {
        "id": "dbEHX9PMYU8W",
        "outputId": "61a87ac4-a143-45a6-9e63-13670ce87a8d"
      },
      "outputs": [
        {
          "data": {
            "text/plain": [
              "'ieuro'"
            ]
          },
          "execution_count": 54,
          "metadata": {},
          "output_type": "execute_result"
        }
      ],
      "source": [
        "ss"
      ]
    },
    {
      "cell_type": "code",
      "execution_count": null,
      "metadata": {
        "id": "cWQYBiAxYU8X",
        "outputId": "89601f02-c2e1-4f29-d46f-8ca68b23569d"
      },
      "outputs": [
        {
          "data": {
            "text/plain": [
              "7"
            ]
          },
          "execution_count": 55,
          "metadata": {},
          "output_type": "execute_result"
        }
      ],
      "source": [
        "len(s)"
      ]
    },
    {
      "cell_type": "code",
      "execution_count": null,
      "metadata": {
        "id": "YOlYNQYPYU8Z",
        "outputId": "568392f8-1020-4fa7-9092-0c111d8921ab"
      },
      "outputs": [
        {
          "name": "stdout",
          "output_type": "stream",
          "text": [
            "+ \r\n",
            "+ + \r\n",
            "+ + + \r\n",
            "+ + + + \r\n",
            "+ + + + + \r\n",
            "+ + + + + + \r\n",
            "+ + + + + + + \r\n"
          ]
        }
      ],
      "source": [
        "n = 7 \n",
        "for i in range(0 ,n):\n",
        "    for j in range(0 ,i +1):\n",
        "        print(\"+ \" , end = \"\")\n",
        "    print(\"\\r\")\n",
        "    "
      ]
    },
    {
      "cell_type": "code",
      "execution_count": null,
      "metadata": {
        "id": "DaAH-60WYU8c",
        "outputId": "077dad62-0758-422d-e0f0-75e8aacc8754"
      },
      "outputs": [
        {
          "name": "stdout",
          "output_type": "stream",
          "text": [
            "        * * * * * * \r\n",
            "         * * * * * \r\n",
            "          * * * * \r\n",
            "           * * * \r\n",
            "            * * \r\n",
            "             * \r\n"
          ]
        }
      ],
      "source": [
        "def pattern(n):\n",
        "      k = 2*n -2\n",
        "      for i in range(n,-1,-1):\n",
        "           for j in range(k,0,-1):\n",
        "                print(end=\" \")\n",
        "           k = k +1\n",
        "           for j in range(0, i+1):\n",
        "                print(\"*\", end=\" \")\n",
        "           print(\"\\r\")\n",
        " \n",
        "pattern(5)\n"
      ]
    },
    {
      "cell_type": "code",
      "execution_count": null,
      "metadata": {
        "id": "1mkmJVPFYU8d",
        "outputId": "27f3eca3-950f-4d37-fb7e-b1e6491b902f"
      },
      "outputs": [
        {
          "name": "stdout",
          "output_type": "stream",
          "text": [
            "7\n",
            "6\n",
            "5\n",
            "4\n",
            "3\n",
            "2\n",
            "1\n"
          ]
        }
      ],
      "source": [
        "for i in range(7,0,-1):\n",
        "    print(i)"
      ]
    },
    {
      "cell_type": "code",
      "execution_count": null,
      "metadata": {
        "id": "rrcFApnwYU8e",
        "outputId": "664379a6-a0eb-4695-d00d-ca89adcb4883"
      },
      "outputs": [
        {
          "name": "stdout",
          "output_type": "stream",
          "text": [
            "Enter number of rows required: 7\n",
            "*************\n",
            " ***********\n",
            "  *********\n",
            "   *******\n",
            "    *****\n",
            "     ***\n",
            "      *\n"
          ]
        }
      ],
      "source": [
        "n = int(input('Enter number of rows required: '))\n",
        "\n",
        "for i in range(n,0,-1):\n",
        "    for j in range(n-i):\n",
        "        print(' ', end='') \n",
        "    \n",
        "    for j in range(2*i-1):\n",
        "        print('*',end='') \n",
        "    print()\n"
      ]
    },
    {
      "cell_type": "code",
      "execution_count": null,
      "metadata": {
        "id": "5lUs2K5VYU8g",
        "outputId": "3b519cd0-368e-41bb-f7d7-3c1fc0ac32c3"
      },
      "outputs": [
        {
          "name": "stdout",
          "output_type": "stream",
          "text": [
            "8\n",
            "7\n",
            "6\n",
            "5\n",
            "4\n",
            "3\n",
            "2\n",
            "1\n"
          ]
        }
      ],
      "source": [
        "for i in range(8, 0, -1):\n",
        "    print(i)"
      ]
    },
    {
      "cell_type": "code",
      "execution_count": null,
      "metadata": {
        "id": "o7OEEm_lYU8h",
        "outputId": "5fd46720-a442-4285-c521-1ca7471d4169"
      },
      "outputs": [
        {
          "name": "stdout",
          "output_type": "stream",
          "text": [
            "        * * * * * * \n",
            "         * * * * * \n",
            "          * * * * \n",
            "           * * * \n",
            "            * * \n",
            "             * \n"
          ]
        }
      ],
      "source": [
        "num = 5\n",
        "m = 2 * num - 2\n",
        "for i in range(num, -1, -1):\n",
        "    for j in range(m, 0, -1):\n",
        "        print(end=\" \")\n",
        "    m = m + 1\n",
        "    for j in range(0, i + 1):\n",
        "        print(\"*\", end=\" \")\n",
        "    print(\"\")\n"
      ]
    },
    {
      "cell_type": "code",
      "execution_count": null,
      "metadata": {
        "id": "R1BKNivCYU8i",
        "outputId": "759c8d30-3e99-41c9-ee14-037fbda967d7"
      },
      "outputs": [
        {
          "data": {
            "text/plain": [
              "'     '"
            ]
          },
          "execution_count": 80,
          "metadata": {},
          "output_type": "execute_result"
        }
      ],
      "source": [
        "\" \"*5"
      ]
    },
    {
      "cell_type": "code",
      "execution_count": null,
      "metadata": {
        "id": "riOLNliWYU8k"
      },
      "outputs": [],
      "source": [
        ""
      ]
    },
    {
      "cell_type": "code",
      "execution_count": null,
      "metadata": {
        "id": "UIQr3aI0YU8k",
        "outputId": "3b2da594-e0d8-4cce-a2fe-6b7bee24b8ee"
      },
      "outputs": [
        {
          "name": "stdout",
          "output_type": "stream",
          "text": [
            "        * \n",
            "       * * \n",
            "      * * * \n",
            "     * * * * \n",
            "    * * * * * \n",
            "   * * * * * * \n",
            "  * * * * * * * \n",
            " * * * * * * * * \n",
            "* * * * * * * * * \n"
          ]
        }
      ],
      "source": [
        "n =9\n",
        "i=0\n",
        "while i < n :\n",
        "    print(' '*(n-i-1) + '* '*(i+1))\n",
        "    i +=1\n"
      ]
    },
    {
      "cell_type": "code",
      "execution_count": null,
      "metadata": {
        "id": "1I6D-X1aYU8l",
        "outputId": "b7892f8a-5964-430a-e21b-62d84c6c79db"
      },
      "outputs": [
        {
          "name": "stdout",
          "output_type": "stream",
          "text": [
            "    *\n",
            "   ***\n",
            "  *****\n",
            " *******\n",
            "*********\n"
          ]
        }
      ],
      "source": [
        "i=1\n",
        "k=1 #for printing starts with the increament of 2\n",
        "\n",
        "while i<=5:\n",
        "    b=1\n",
        "    while b<=5-i:\n",
        "        print(' ',end='')\n",
        "        b=b+1\n",
        "        \n",
        "    j=1\n",
        "    while j<=k:\n",
        "        print('*', end='')\n",
        "        j=j+1\n",
        "    print()\n",
        "    \n",
        "    k=k+2\n",
        "    \n",
        "    i=i+1\n"
      ]
    },
    {
      "cell_type": "code",
      "execution_count": null,
      "metadata": {
        "id": "OvNSWzP2YU8m",
        "outputId": "27b71240-0834-4edc-f68c-4b3ee0fe750a"
      },
      "outputs": [
        {
          "name": "stdout",
          "output_type": "stream",
          "text": [
            "Please enter the amount of rows: 7\n",
            "      *\n",
            "     ***\n",
            "    *****\n",
            "   *******\n",
            "  *********\n",
            " ***********\n",
            "*************\n",
            "**iNeuron-FSDS**\n"
          ]
        }
      ],
      "source": [
        "userInput = int(input(\"Please enter the amount of rows: \"))\n",
        "\n",
        "row = 0\n",
        "while(row < userInput):\n",
        "    row += 1\n",
        "    spaces = userInput - row\n",
        "\n",
        "    spaces_counter = 0\n",
        "    while(spaces_counter < spaces):\n",
        "        print(\" \", end='')\n",
        "        spaces_counter += 1\n",
        "\n",
        "    num_stars = 2*row-1\n",
        "    while(num_stars > 0):\n",
        "        print(\"*\", end='')\n",
        "        num_stars -= 1\n",
        "\n",
        "    print()\n",
        "print(\"**iNeuron-FSDS**\")\n"
      ]
    },
    {
      "cell_type": "code",
      "execution_count": null,
      "metadata": {
        "id": "EXMSiKeVYU8n"
      },
      "outputs": [],
      "source": [
        "l = list()"
      ]
    },
    {
      "cell_type": "code",
      "execution_count": null,
      "metadata": {
        "id": "kvuIry5RYU8o"
      },
      "outputs": [],
      "source": [
        "name = \"sudh\"\n",
        "phno = 543535345\n",
        "addr = \"sdfsff\"\n",
        "\n",
        "name , phno , addr = \"sudh \" , 54353453,\"fgfd\""
      ]
    },
    {
      "cell_type": "code",
      "execution_count": null,
      "metadata": {
        "id": "M-zM0mKhYU8p",
        "outputId": "baf7966c-c080-489a-af49-9be0c903f56b"
      },
      "outputs": [
        {
          "data": {
            "text/plain": [
              "7"
            ]
          },
          "execution_count": 122,
          "metadata": {},
          "output_type": "execute_result"
        }
      ],
      "source": [
        "l = [\"sudh\" , 34535,\"sfsfsafa\", True, 45+8j , [3,5,6,\"dfg\"],6.787]\n",
        "\n",
        "len(l)"
      ]
    },
    {
      "cell_type": "code",
      "execution_count": null,
      "metadata": {
        "id": "y7wb0eVqYU8p",
        "outputId": "51a0a065-6664-4792-cbf1-949e8d1b70c2"
      },
      "outputs": [
        {
          "data": {
            "text/plain": [
              "range(0, 10)"
            ]
          },
          "execution_count": 121,
          "metadata": {},
          "output_type": "execute_result"
        }
      ],
      "source": [
        "range(10)"
      ]
    },
    {
      "cell_type": "code",
      "execution_count": null,
      "metadata": {
        "id": "SSwwW7B4YU8q",
        "outputId": "424a6cfe-988a-4625-e035-fe2c9cc289d1"
      },
      "outputs": [
        {
          "data": {
            "text/plain": [
              "[0, 1, 2, 3, 4, 5, 6, 7, 8, 9]"
            ]
          },
          "execution_count": 119,
          "metadata": {},
          "output_type": "execute_result"
        }
      ],
      "source": [
        "list(range(10))"
      ]
    },
    {
      "cell_type": "code",
      "execution_count": null,
      "metadata": {
        "id": "l9Ap10saYU8q",
        "outputId": "37854b98-4c97-4497-dcbc-d0e43801d236"
      },
      "outputs": [
        {
          "name": "stdout",
          "output_type": "stream",
          "text": [
            "4\n",
            "5\n",
            "6\n",
            "7\n",
            "8\n",
            "9\n"
          ]
        }
      ],
      "source": [
        "for  i in range(4,10):\n",
        "    print(i)"
      ]
    },
    {
      "cell_type": "code",
      "execution_count": null,
      "metadata": {
        "id": "vTZM4LadYU8r",
        "outputId": "07cb9a80-04cc-469c-de6f-3c2316227a1d"
      },
      "outputs": [
        {
          "data": {
            "text/plain": [
              "[]"
            ]
          },
          "execution_count": 114,
          "metadata": {},
          "output_type": "execute_result"
        }
      ],
      "source": [
        "l[80 :3:1]"
      ]
    },
    {
      "cell_type": "code",
      "execution_count": null,
      "metadata": {
        "id": "7GmovNjKYU8t",
        "outputId": "a958ad9b-5ba1-4bb5-86e8-f0fbba6586b9"
      },
      "outputs": [
        {
          "name": "stdout",
          "output_type": "stream",
          "text": [
            "14\n",
            "<class 'str'>\n"
          ]
        }
      ],
      "source": [
        "for i in l :\n",
        "    if type(i) == list:\n",
        "        n = 0\n",
        "        for  j in i :\n",
        "            if type(j) == int :\n",
        "                n = n + j\n",
        "        print(n)\n",
        "                \n",
        "        print(type(j))"
      ]
    },
    {
      "cell_type": "code",
      "execution_count": null,
      "metadata": {
        "id": "M1qIad2fYU8u",
        "outputId": "13b54b17-fb21-48fa-9759-4810a2a28bec"
      },
      "outputs": [
        {
          "data": {
            "text/plain": [
              "list"
            ]
          },
          "execution_count": 88,
          "metadata": {},
          "output_type": "execute_result"
        }
      ],
      "source": [
        "type(l)"
      ]
    },
    {
      "cell_type": "code",
      "execution_count": null,
      "metadata": {
        "id": "bcyW9Y_0YU8u",
        "outputId": "7c41a756-d087-4847-c26c-0e84b81419bf"
      },
      "outputs": [
        {
          "data": {
            "text/plain": [
              "list"
            ]
          },
          "execution_count": 94,
          "metadata": {},
          "output_type": "execute_result"
        }
      ],
      "source": [
        "l1 = []\n",
        "type(l1)"
      ]
    },
    {
      "cell_type": "code",
      "execution_count": null,
      "metadata": {
        "id": "QCYPFgmsYU8v",
        "outputId": "c0ee385d-b074-44c8-eb45-872a3be0ed25"
      },
      "outputs": [
        {
          "data": {
            "text/plain": [
              "list"
            ]
          },
          "execution_count": 95,
          "metadata": {},
          "output_type": "execute_result"
        }
      ],
      "source": [
        "l2 = list()\n",
        "type(l2)"
      ]
    },
    {
      "cell_type": "code",
      "execution_count": null,
      "metadata": {
        "id": "oJJUhrPkYU8w",
        "outputId": "bfde95b6-41fd-4a5f-dba8-281fd65a48ce"
      },
      "outputs": [
        {
          "data": {
            "text/plain": [
              "list"
            ]
          },
          "execution_count": 90,
          "metadata": {},
          "output_type": "execute_result"
        }
      ],
      "source": [
        "type(l1)"
      ]
    },
    {
      "cell_type": "code",
      "execution_count": null,
      "metadata": {
        "id": "J9lQRAKRYU8w",
        "outputId": "3a08cd3c-282c-49bf-e41f-3902a3bbc7a6"
      },
      "outputs": [
        {
          "data": {
            "text/plain": [
              "'sudh'"
            ]
          },
          "execution_count": 85,
          "metadata": {},
          "output_type": "execute_result"
        }
      ],
      "source": [
        "l[0]"
      ]
    },
    {
      "cell_type": "code",
      "execution_count": null,
      "metadata": {
        "id": "hgTGeOsgYU8x",
        "outputId": "4fc53725-977e-4652-8b03-a481d714346f"
      },
      "outputs": [
        {
          "data": {
            "text/plain": [
              "34535"
            ]
          },
          "execution_count": 86,
          "metadata": {},
          "output_type": "execute_result"
        }
      ],
      "source": [
        "l[1]"
      ]
    },
    {
      "cell_type": "code",
      "execution_count": null,
      "metadata": {
        "id": "aF98j_9qYU8x",
        "outputId": "36fc41d5-a23c-4759-fda7-dea1ec5ed347"
      },
      "outputs": [
        {
          "data": {
            "text/plain": [
              "'sfsfsafa'"
            ]
          },
          "execution_count": 87,
          "metadata": {},
          "output_type": "execute_result"
        }
      ],
      "source": [
        "l[2]"
      ]
    },
    {
      "cell_type": "code",
      "execution_count": null,
      "metadata": {
        "id": "zAueCsnWYU8y"
      },
      "outputs": [],
      "source": [
        ""
      ]
    }
  ],
  "metadata": {
    "kernelspec": {
      "display_name": "Python 3",
      "language": "python",
      "name": "python3"
    },
    "language_info": {
      "codemirror_mode": {
        "name": "ipython",
        "version": 3
      },
      "file_extension": ".py",
      "mimetype": "text/x-python",
      "name": "python",
      "nbconvert_exporter": "python",
      "pygments_lexer": "ipython3",
      "version": "3.8.3"
    },
    "colab": {
      "name": "7th march live class notebook for loop while and range function  (1).ipynb",
      "provenance": [],
      "include_colab_link": true
    }
  },
  "nbformat": 4,
  "nbformat_minor": 0
}