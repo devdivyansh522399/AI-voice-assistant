{
  "cells": [
    {
      "cell_type": "markdown",
      "metadata": {
        "id": "view-in-github",
        "colab_type": "text"
      },
      "source": [
        "<a href=\"https://colab.research.google.com/github/devdivyansh522399/AI-voice-assistant/blob/main/day_03_TUPLE_SET_AND_DICT.ipynb\" target=\"_parent\"><img src=\"https://colab.research.google.com/assets/colab-badge.svg\" alt=\"Open In Colab\"/></a>"
      ]
    },
    {
      "cell_type": "code",
      "execution_count": null,
      "metadata": {
        "id": "X__BD1f1d8cI"
      },
      "outputs": [],
      "source": [
        "t = ()"
      ]
    },
    {
      "cell_type": "code",
      "execution_count": null,
      "metadata": {
        "id": "DxtZJzKYd8cR",
        "outputId": "117854ed-5218-4a40-88cd-c0192cfaf30f"
      },
      "outputs": [
        {
          "data": {
            "text/plain": [
              "tuple"
            ]
          },
          "execution_count": 2,
          "metadata": {},
          "output_type": "execute_result"
        }
      ],
      "source": [
        "type(t)"
      ]
    },
    {
      "cell_type": "code",
      "execution_count": null,
      "metadata": {
        "id": "ncxumGN5d8cU",
        "outputId": "7f1f49b3-4a8a-4f9b-d175-1726f17c37b7"
      },
      "outputs": [
        {
          "data": {
            "text/plain": [
              "list"
            ]
          },
          "execution_count": 3,
          "metadata": {},
          "output_type": "execute_result"
        }
      ],
      "source": [
        "l = []\n",
        "type(l)"
      ]
    },
    {
      "cell_type": "code",
      "execution_count": null,
      "metadata": {
        "id": "jf_hTKNNd8cX"
      },
      "outputs": [],
      "source": [
        "t1 = (234,34,\"sudh\" , 3.45,True)"
      ]
    },
    {
      "cell_type": "code",
      "execution_count": null,
      "metadata": {
        "id": "0rcOGYqZd8cY"
      },
      "outputs": [],
      "source": [
        "l1 = [234,34,\"sudh\" , 3.45,True]"
      ]
    },
    {
      "cell_type": "code",
      "execution_count": null,
      "metadata": {
        "id": "I9Zmt5xld8cZ",
        "outputId": "bf5eeb03-cf8f-4be0-8faf-e52b473dbc3e"
      },
      "outputs": [
        {
          "data": {
            "text/plain": [
              "(234, 34, 'sudh', 3.45)"
            ]
          },
          "execution_count": 8,
          "metadata": {},
          "output_type": "execute_result"
        }
      ],
      "source": [
        "t1[0:4]"
      ]
    },
    {
      "cell_type": "code",
      "execution_count": null,
      "metadata": {
        "id": "u-4xh2L6d8ca",
        "outputId": "f1db5553-491b-4561-e459-32b3f6e205ee"
      },
      "outputs": [
        {
          "data": {
            "text/plain": [
              "(True, 3.45, 'sudh', 34, 234)"
            ]
          },
          "execution_count": 9,
          "metadata": {},
          "output_type": "execute_result"
        }
      ],
      "source": [
        "t1[::-1]"
      ]
    },
    {
      "cell_type": "code",
      "execution_count": null,
      "metadata": {
        "id": "DzGAZmBxd8cc",
        "outputId": "bdb5b7e9-64a4-4b3d-c525-a5f3c97a7a51"
      },
      "outputs": [
        {
          "data": {
            "text/plain": [
              "True"
            ]
          },
          "execution_count": 11,
          "metadata": {},
          "output_type": "execute_result"
        }
      ],
      "source": [
        "t1[-1]"
      ]
    },
    {
      "cell_type": "code",
      "execution_count": null,
      "metadata": {
        "id": "qZraXC-rd8cd"
      },
      "outputs": [],
      "source": [
        "l1[0] = \"kumar\""
      ]
    },
    {
      "cell_type": "code",
      "execution_count": null,
      "metadata": {
        "id": "OyE1hClSd8cf",
        "outputId": "fbaafcfd-af7a-4ade-8ca0-1ad10541ed87"
      },
      "outputs": [
        {
          "data": {
            "text/plain": [
              "['kumar', 34, 'sudh', 3.45, True]"
            ]
          },
          "execution_count": 14,
          "metadata": {},
          "output_type": "execute_result"
        }
      ],
      "source": [
        "l1"
      ]
    },
    {
      "cell_type": "code",
      "execution_count": null,
      "metadata": {
        "id": "3-UpYOAud8ch",
        "outputId": "847eaf1c-c776-48d8-db8a-7164a6b33cc4"
      },
      "outputs": [
        {
          "data": {
            "text/plain": [
              "(234, 34, 'sudh', 3.45, True)"
            ]
          },
          "execution_count": 15,
          "metadata": {},
          "output_type": "execute_result"
        }
      ],
      "source": [
        "t1"
      ]
    },
    {
      "cell_type": "code",
      "execution_count": null,
      "metadata": {
        "id": "kRF3yFHEd8ci",
        "outputId": "4753c33b-ce6d-42f3-8cd6-6646663556af"
      },
      "outputs": [
        {
          "ename": "TypeError",
          "evalue": "'tuple' object does not support item assignment",
          "output_type": "error",
          "traceback": [
            "\u001b[1;31m---------------------------------------------------------------------------\u001b[0m",
            "\u001b[1;31mTypeError\u001b[0m                                 Traceback (most recent call last)",
            "\u001b[1;32m<ipython-input-17-de2369803a3c>\u001b[0m in \u001b[0;36m<module>\u001b[1;34m\u001b[0m\n\u001b[1;32m----> 1\u001b[1;33m \u001b[0mt1\u001b[0m\u001b[1;33m[\u001b[0m\u001b[1;36m0\u001b[0m\u001b[1;33m]\u001b[0m \u001b[1;33m=\u001b[0m \u001b[1;34m\"dsdfdf\"\u001b[0m\u001b[1;33m\u001b[0m\u001b[1;33m\u001b[0m\u001b[0m\n\u001b[0m",
            "\u001b[1;31mTypeError\u001b[0m: 'tuple' object does not support item assignment"
          ]
        }
      ],
      "source": [
        "t1[0] = \"dsdfdf\""
      ]
    },
    {
      "cell_type": "code",
      "execution_count": null,
      "metadata": {
        "id": "QeiwZkiOd8cj"
      },
      "outputs": [],
      "source": [
        "t2 = (234,54,565)"
      ]
    },
    {
      "cell_type": "code",
      "execution_count": null,
      "metadata": {
        "id": "GdnWwLiad8ck",
        "outputId": "a272fb08-4e9f-44d6-d307-f429daa3fce2"
      },
      "outputs": [
        {
          "data": {
            "text/plain": [
              "(234, 34, 'sudh', 3.45, True, 234, 54, 565)"
            ]
          },
          "execution_count": 19,
          "metadata": {},
          "output_type": "execute_result"
        }
      ],
      "source": [
        "t1+t2"
      ]
    },
    {
      "cell_type": "code",
      "execution_count": null,
      "metadata": {
        "id": "d66LvSZYd8cl",
        "outputId": "8a9302b3-db6a-4765-bf8d-1cae282aed77"
      },
      "outputs": [
        {
          "data": {
            "text/plain": [
              "(234,\n",
              " 34,\n",
              " 'sudh',\n",
              " 3.45,\n",
              " True,\n",
              " 234,\n",
              " 34,\n",
              " 'sudh',\n",
              " 3.45,\n",
              " True,\n",
              " 234,\n",
              " 34,\n",
              " 'sudh',\n",
              " 3.45,\n",
              " True,\n",
              " 234,\n",
              " 34,\n",
              " 'sudh',\n",
              " 3.45,\n",
              " True)"
            ]
          },
          "execution_count": 20,
          "metadata": {},
          "output_type": "execute_result"
        }
      ],
      "source": [
        "t1*4"
      ]
    },
    {
      "cell_type": "code",
      "execution_count": null,
      "metadata": {
        "id": "ggYXOlqCd8cm",
        "outputId": "701a5fc8-7a65-4773-ff49-76452fb39a8b"
      },
      "outputs": [
        {
          "data": {
            "text/plain": [
              "(234, 34, 'sudh', 3.45, True)"
            ]
          },
          "execution_count": 22,
          "metadata": {},
          "output_type": "execute_result"
        }
      ],
      "source": [
        "t1"
      ]
    },
    {
      "cell_type": "code",
      "execution_count": null,
      "metadata": {
        "id": "z224WB5Td8cn",
        "outputId": "08dd8385-5cb2-45f1-a053-cd5272d7fdca"
      },
      "outputs": [
        {
          "data": {
            "text/plain": [
              "True"
            ]
          },
          "execution_count": 23,
          "metadata": {},
          "output_type": "execute_result"
        }
      ],
      "source": [
        "34 in t1"
      ]
    },
    {
      "cell_type": "code",
      "execution_count": null,
      "metadata": {
        "id": "gEvJ-TEHd8co",
        "outputId": "6c8aede3-a7e1-47da-cedb-004b221dceff"
      },
      "outputs": [
        {
          "data": {
            "text/plain": [
              "False"
            ]
          },
          "execution_count": 24,
          "metadata": {},
          "output_type": "execute_result"
        }
      ],
      "source": [
        "\"fdsfds\" in t1"
      ]
    },
    {
      "cell_type": "code",
      "execution_count": null,
      "metadata": {
        "id": "emPNT16Sd8cp",
        "outputId": "2960a02e-3c45-4e85-883e-a2a7dffb95d6"
      },
      "outputs": [
        {
          "data": {
            "text/plain": [
              "(234, 34, 'sudh', 3.45, True)"
            ]
          },
          "execution_count": 25,
          "metadata": {},
          "output_type": "execute_result"
        }
      ],
      "source": [
        "t1"
      ]
    },
    {
      "cell_type": "code",
      "execution_count": null,
      "metadata": {
        "id": "NS7Jr05Gd8cq",
        "outputId": "31a60178-90c0-4352-fe82-d2db01ec187a"
      },
      "outputs": [
        {
          "ename": "TypeError",
          "evalue": "'>' not supported between instances of 'str' and 'int'",
          "output_type": "error",
          "traceback": [
            "\u001b[1;31m---------------------------------------------------------------------------\u001b[0m",
            "\u001b[1;31mTypeError\u001b[0m                                 Traceback (most recent call last)",
            "\u001b[1;32m<ipython-input-26-07c1bf72392e>\u001b[0m in \u001b[0;36m<module>\u001b[1;34m\u001b[0m\n\u001b[1;32m----> 1\u001b[1;33m \u001b[0mmax\u001b[0m\u001b[1;33m(\u001b[0m\u001b[0mt1\u001b[0m\u001b[1;33m)\u001b[0m\u001b[1;33m\u001b[0m\u001b[1;33m\u001b[0m\u001b[0m\n\u001b[0m",
            "\u001b[1;31mTypeError\u001b[0m: '>' not supported between instances of 'str' and 'int'"
          ]
        }
      ],
      "source": [
        "max(t1)"
      ]
    },
    {
      "cell_type": "code",
      "execution_count": null,
      "metadata": {
        "id": "w4l1pxJod8cq"
      },
      "outputs": [],
      "source": [
        "t3 = (23,343,45,454,54)"
      ]
    },
    {
      "cell_type": "code",
      "execution_count": null,
      "metadata": {
        "id": "zK7GjzU9d8cr",
        "outputId": "294d27a3-14f6-40e3-ea70-f6c2a4c19867"
      },
      "outputs": [
        {
          "data": {
            "text/plain": [
              "454"
            ]
          },
          "execution_count": 29,
          "metadata": {},
          "output_type": "execute_result"
        }
      ],
      "source": [
        "max(t3)"
      ]
    },
    {
      "cell_type": "code",
      "execution_count": null,
      "metadata": {
        "id": "dfORsgMcd8cs"
      },
      "outputs": [],
      "source": [
        "t4 = (\"fsdf\",\"Fsdf\",\"fsd\")"
      ]
    },
    {
      "cell_type": "code",
      "execution_count": null,
      "metadata": {
        "id": "5UDgNq4kd8ct",
        "outputId": "eaf154d4-ce63-420f-ace7-6d7568afbb8c"
      },
      "outputs": [
        {
          "data": {
            "text/plain": [
              "'fsdf'"
            ]
          },
          "execution_count": 31,
          "metadata": {},
          "output_type": "execute_result"
        }
      ],
      "source": [
        "max(t4)"
      ]
    },
    {
      "cell_type": "code",
      "execution_count": null,
      "metadata": {
        "id": "OHtICIUXd8ct"
      },
      "outputs": [],
      "source": [
        "t1 =(234, 34, 'sudh', 3.45,34,34,34, True)"
      ]
    },
    {
      "cell_type": "code",
      "execution_count": null,
      "metadata": {
        "id": "HZxobHBdd8cu",
        "outputId": "5d7da9f2-6b63-4f8e-d388-52791074f514"
      },
      "outputs": [
        {
          "data": {
            "text/plain": [
              "1"
            ]
          },
          "execution_count": 38,
          "metadata": {},
          "output_type": "execute_result"
        }
      ],
      "source": [
        "t1.index(34)"
      ]
    },
    {
      "cell_type": "code",
      "execution_count": null,
      "metadata": {
        "id": "uNY1IBOPd8cu",
        "outputId": "5871b795-4d0c-49c8-dbed-9b6c987866fb"
      },
      "outputs": [
        {
          "data": {
            "text/plain": [
              "4"
            ]
          },
          "execution_count": 39,
          "metadata": {},
          "output_type": "execute_result"
        }
      ],
      "source": [
        "t1.count(34)"
      ]
    },
    {
      "cell_type": "code",
      "execution_count": null,
      "metadata": {
        "id": "TUxJGW6sd8cv",
        "outputId": "8f781f6d-2762-4e87-bc77-f2a6ccb9b450"
      },
      "outputs": [
        {
          "data": {
            "text/plain": [
              "['kumar', 34, 'sudh', 3.45, True]"
            ]
          },
          "execution_count": 33,
          "metadata": {},
          "output_type": "execute_result"
        }
      ],
      "source": [
        "l1"
      ]
    },
    {
      "cell_type": "code",
      "execution_count": null,
      "metadata": {
        "id": "ab9lXNWNd8cv",
        "outputId": "fd8d5118-aafb-430b-ddb6-fa3bd1d88a48"
      },
      "outputs": [
        {
          "ename": "ValueError",
          "evalue": "6 is not in list",
          "output_type": "error",
          "traceback": [
            "\u001b[1;31m---------------------------------------------------------------------------\u001b[0m",
            "\u001b[1;31mValueError\u001b[0m                                Traceback (most recent call last)",
            "\u001b[1;32m<ipython-input-36-6ca79050144f>\u001b[0m in \u001b[0;36m<module>\u001b[1;34m\u001b[0m\n\u001b[1;32m----> 1\u001b[1;33m \u001b[0ml1\u001b[0m\u001b[1;33m.\u001b[0m\u001b[0mindex\u001b[0m\u001b[1;33m(\u001b[0m\u001b[1;36m6\u001b[0m\u001b[1;33m)\u001b[0m\u001b[1;33m\u001b[0m\u001b[1;33m\u001b[0m\u001b[0m\n\u001b[0m",
            "\u001b[1;31mValueError\u001b[0m: 6 is not in list"
          ]
        }
      ],
      "source": [
        "l1.index(6)"
      ]
    },
    {
      "cell_type": "code",
      "execution_count": null,
      "metadata": {
        "id": "cBM_uEmjd8cw",
        "outputId": "3de4194b-0a1d-4297-c210-6bd28607dbb8"
      },
      "outputs": [
        {
          "data": {
            "text/plain": [
              "(234, 34, 'sudh', 3.45, 34, 34, 34, True)"
            ]
          },
          "execution_count": 40,
          "metadata": {},
          "output_type": "execute_result"
        }
      ],
      "source": [
        "t1"
      ]
    },
    {
      "cell_type": "code",
      "execution_count": null,
      "metadata": {
        "id": "Jbo7ol-Vd8cx",
        "outputId": "e92b30f9-5264-41a8-ce2a-f0f43b5e27f3"
      },
      "outputs": [
        {
          "ename": "TypeError",
          "evalue": "'<' not supported between instances of 'str' and 'int'",
          "output_type": "error",
          "traceback": [
            "\u001b[1;31m---------------------------------------------------------------------------\u001b[0m",
            "\u001b[1;31mTypeError\u001b[0m                                 Traceback (most recent call last)",
            "\u001b[1;32m<ipython-input-41-e8166676ab5b>\u001b[0m in \u001b[0;36m<module>\u001b[1;34m\u001b[0m\n\u001b[1;32m----> 1\u001b[1;33m \u001b[0mmin\u001b[0m\u001b[1;33m(\u001b[0m\u001b[0mt1\u001b[0m\u001b[1;33m)\u001b[0m\u001b[1;33m\u001b[0m\u001b[1;33m\u001b[0m\u001b[0m\n\u001b[0m",
            "\u001b[1;31mTypeError\u001b[0m: '<' not supported between instances of 'str' and 'int'"
          ]
        }
      ],
      "source": [
        "min(t1)"
      ]
    },
    {
      "cell_type": "code",
      "execution_count": null,
      "metadata": {
        "id": "ZqsOOgiEd8cx",
        "outputId": "97b13668-7687-4f4a-f14a-7487ef484030"
      },
      "outputs": [
        {
          "data": {
            "text/plain": [
              "(23, 343, 45, 454, 54)"
            ]
          },
          "execution_count": 42,
          "metadata": {},
          "output_type": "execute_result"
        }
      ],
      "source": [
        "t3"
      ]
    },
    {
      "cell_type": "code",
      "execution_count": null,
      "metadata": {
        "id": "D6LONCJBd8cy",
        "outputId": "906f1d1d-7ed5-49a7-b7bd-2eea4bd031f9"
      },
      "outputs": [
        {
          "data": {
            "text/plain": [
              "23"
            ]
          },
          "execution_count": 43,
          "metadata": {},
          "output_type": "execute_result"
        }
      ],
      "source": [
        "min(t3)"
      ]
    },
    {
      "cell_type": "code",
      "execution_count": null,
      "metadata": {
        "id": "Fv3CcDAWd8cy",
        "outputId": "407659e4-a737-45cf-b630-e04c2d5c98a9"
      },
      "outputs": [
        {
          "data": {
            "text/plain": [
              "'Fsdf'"
            ]
          },
          "execution_count": 44,
          "metadata": {},
          "output_type": "execute_result"
        }
      ],
      "source": [
        "min(t4)"
      ]
    },
    {
      "cell_type": "code",
      "execution_count": null,
      "metadata": {
        "id": "ytqDXtIpd8cz",
        "outputId": "513cd885-ad4d-4683-e400-a46dd72fe077"
      },
      "outputs": [
        {
          "data": {
            "text/plain": [
              "()"
            ]
          },
          "execution_count": 45,
          "metadata": {},
          "output_type": "execute_result"
        }
      ],
      "source": [
        "t"
      ]
    },
    {
      "cell_type": "code",
      "execution_count": null,
      "metadata": {
        "id": "kzxOqfACd8cz",
        "outputId": "1cc5b7c3-545f-41cd-fa01-22c2c20a3d96"
      },
      "outputs": [
        {
          "data": {
            "text/plain": [
              "(234, 34, 'sudh', 3.45, 34, 34, 34, True)"
            ]
          },
          "execution_count": 46,
          "metadata": {},
          "output_type": "execute_result"
        }
      ],
      "source": [
        "t1"
      ]
    },
    {
      "cell_type": "code",
      "execution_count": null,
      "metadata": {
        "id": "tnCp8s4rd8c0"
      },
      "outputs": [],
      "source": [
        "t5 =(90,45)"
      ]
    },
    {
      "cell_type": "code",
      "execution_count": null,
      "metadata": {
        "id": "mGEiVmTsd8c1",
        "outputId": "d0a64c2c-cde6-4208-a3c7-c9e2166c47df"
      },
      "outputs": [
        {
          "data": {
            "text/plain": [
              "(234, 34, 'sudh', 3.45, 34, 34, 34, True, 90, 45)"
            ]
          },
          "execution_count": 50,
          "metadata": {},
          "output_type": "execute_result"
        }
      ],
      "source": [
        "t1+t5"
      ]
    },
    {
      "cell_type": "code",
      "execution_count": null,
      "metadata": {
        "id": "WGTMzQMCd8c1"
      },
      "outputs": [],
      "source": [
        "t6= 56"
      ]
    },
    {
      "cell_type": "code",
      "execution_count": null,
      "metadata": {
        "id": "ErTf1-K4d8c1"
      },
      "outputs": [],
      "source": [
        "l5 = list(t1)"
      ]
    },
    {
      "cell_type": "code",
      "execution_count": null,
      "metadata": {
        "id": "umtRjKlFd8c2"
      },
      "outputs": [],
      "source": [
        "l5.insert(3,t6)"
      ]
    },
    {
      "cell_type": "code",
      "execution_count": null,
      "metadata": {
        "id": "4QSllsnQd8c2",
        "outputId": "0d4061b2-31f2-44a9-fb6a-87af1b9615cd"
      },
      "outputs": [
        {
          "data": {
            "text/plain": [
              "[234, 34, 'sudh', 56, 3.45, 34, 34, 34, True]"
            ]
          },
          "execution_count": 56,
          "metadata": {},
          "output_type": "execute_result"
        }
      ],
      "source": [
        "l5"
      ]
    },
    {
      "cell_type": "code",
      "execution_count": null,
      "metadata": {
        "id": "BzAzNs-qd8c3",
        "outputId": "7a8cca6e-89fa-4bd4-ba47-ab1eeca460ec"
      },
      "outputs": [
        {
          "data": {
            "text/plain": [
              "(234, 34, 'sudh', 56, 3.45, 34, 34, 34, True)"
            ]
          },
          "execution_count": 57,
          "metadata": {},
          "output_type": "execute_result"
        }
      ],
      "source": [
        "tuple(l5)"
      ]
    },
    {
      "cell_type": "code",
      "execution_count": null,
      "metadata": {
        "id": "NDLtgNMEd8c3"
      },
      "outputs": [],
      "source": [
        "t = ((3,4,5,6,7) , (\"sdfsd\",45,45) , (\"454\",54) , 45,454,67 , [4,5,6,7,7])"
      ]
    },
    {
      "cell_type": "code",
      "execution_count": null,
      "metadata": {
        "id": "MhVC6Ulnd8c4",
        "outputId": "7d1ce6b8-1c29-4fc8-a8be-f91f00b7a83a"
      },
      "outputs": [
        {
          "data": {
            "text/plain": [
              "[5, 6, 7]"
            ]
          },
          "execution_count": 65,
          "metadata": {},
          "output_type": "execute_result"
        }
      ],
      "source": [
        "t[6][1:4]"
      ]
    },
    {
      "cell_type": "code",
      "execution_count": null,
      "metadata": {
        "id": "O9RSAoFdd8c4",
        "outputId": "b6420ec7-8be1-41e1-b58f-c0bc790ba152"
      },
      "outputs": [
        {
          "data": {
            "text/plain": [
              "'sdfsd'"
            ]
          },
          "execution_count": 67,
          "metadata": {},
          "output_type": "execute_result"
        }
      ],
      "source": [
        "t[1][0]"
      ]
    },
    {
      "cell_type": "code",
      "execution_count": null,
      "metadata": {
        "id": "zvxHwVHxd8c5",
        "outputId": "2899d0dc-395d-45a2-c162-e96c1bae6447"
      },
      "outputs": [
        {
          "name": "stdout",
          "output_type": "stream",
          "text": [
            "(3, 4, 5, 6, 7)\n",
            "('sdfsd', 45, 45)\n",
            "('454', 54)\n",
            "45\n",
            "454\n",
            "67\n",
            "[4, 5, 6, 7, 7]\n"
          ]
        }
      ],
      "source": [
        "for i in t :\n",
        "    print(i)"
      ]
    },
    {
      "cell_type": "code",
      "execution_count": null,
      "metadata": {
        "id": "0mNWdPz5d8c6",
        "outputId": "1d82ac00-873b-4835-c3b3-ed862fb98b1d"
      },
      "outputs": [
        {
          "name": "stdout",
          "output_type": "stream",
          "text": [
            "3\n",
            "sdfsd\n",
            "454\n"
          ]
        }
      ],
      "source": [
        "for i in t :\n",
        "    if type(i)==tuple :\n",
        "        print(i[0])"
      ]
    },
    {
      "cell_type": "code",
      "execution_count": null,
      "metadata": {
        "id": "zYxapWFFd8c6",
        "outputId": "aca6d080-8b0f-4817-de3b-eaea3f3d91eb"
      },
      "outputs": [
        {
          "data": {
            "text/plain": [
              "(234, 34, 'sudh', 3.45, 34, 34, 34, True)"
            ]
          },
          "execution_count": 70,
          "metadata": {},
          "output_type": "execute_result"
        }
      ],
      "source": [
        "t1 "
      ]
    },
    {
      "cell_type": "code",
      "execution_count": null,
      "metadata": {
        "id": "5l_aG7hAd8c7",
        "outputId": "0bfc23d0-7e03-43f9-dfef-9716cc13510c"
      },
      "outputs": [
        {
          "data": {
            "text/plain": [
              "(234, 54, 565)"
            ]
          },
          "execution_count": 71,
          "metadata": {},
          "output_type": "execute_result"
        }
      ],
      "source": [
        "t2"
      ]
    },
    {
      "cell_type": "code",
      "execution_count": null,
      "metadata": {
        "id": "9c8whgfTd8c7",
        "outputId": "a0fbf673-179b-4424-9c97-447885b2fe67"
      },
      "outputs": [
        {
          "name": "stdout",
          "output_type": "stream",
          "text": [
            "not same \n"
          ]
        }
      ],
      "source": [
        "if len(t1) == len(t2):\n",
        "    print(\"its same \")\n",
        "else :\n",
        "    print(\"not same \")"
      ]
    },
    {
      "cell_type": "code",
      "execution_count": null,
      "metadata": {
        "id": "oKPXlxFAd8c8"
      },
      "outputs": [],
      "source": [
        "t = (234, 34, 'sudh', 3.45, 34, 34, 34, True , \"kumar\")\n",
        "\n"
      ]
    },
    {
      "cell_type": "code",
      "execution_count": null,
      "metadata": {
        "id": "UZ1lES9fd8c8",
        "outputId": "e08c32ee-8150-4fa0-8390-33ab0887f978"
      },
      "outputs": [
        {
          "name": "stdout",
          "output_type": "stream",
          "text": [
            "take a user input34\n",
            "your name is not available \n"
          ]
        }
      ],
      "source": [
        "i = input(\"take a user input\")\n",
        "\n",
        "if i in t :\n",
        "    print(\"yet s your name is available \")\n",
        "else :\n",
        "    print(\"your name is not available \")"
      ]
    },
    {
      "cell_type": "code",
      "execution_count": null,
      "metadata": {
        "id": "0VlNMAnQd8c9",
        "outputId": "654ca43f-0287-4082-f24e-cc3ac2e2ff66"
      },
      "outputs": [
        {
          "data": {
            "text/plain": [
              "(234, 34, 'sudh', 3.45, 34, 34, 34, True, 'kumar')"
            ]
          },
          "execution_count": 78,
          "metadata": {},
          "output_type": "execute_result"
        }
      ],
      "source": [
        "t"
      ]
    },
    {
      "cell_type": "code",
      "execution_count": null,
      "metadata": {
        "id": "9TPxNmR6d8c9",
        "outputId": "58da9f1d-30b9-477d-e454-8d4d79dd91b2"
      },
      "outputs": [
        {
          "data": {
            "text/plain": [
              "['kumar', 34, 'sudh', 3.45, True]"
            ]
          },
          "execution_count": 80,
          "metadata": {},
          "output_type": "execute_result"
        }
      ],
      "source": [
        "l1"
      ]
    },
    {
      "cell_type": "code",
      "execution_count": null,
      "metadata": {
        "id": "--FD0wbSd8c-"
      },
      "outputs": [],
      "source": [
        "t1  = (34)"
      ]
    },
    {
      "cell_type": "code",
      "execution_count": null,
      "metadata": {
        "id": "T9kXoiuBd8c-"
      },
      "outputs": [],
      "source": [
        "del(t)"
      ]
    },
    {
      "cell_type": "code",
      "execution_count": null,
      "metadata": {
        "id": "JlhEK54ud8c_",
        "outputId": "5b3aadbc-0086-47f3-98e1-4985b20e0cf0"
      },
      "outputs": [
        {
          "ename": "NameError",
          "evalue": "name 't' is not defined",
          "output_type": "error",
          "traceback": [
            "\u001b[1;31m---------------------------------------------------------------------------\u001b[0m",
            "\u001b[1;31mNameError\u001b[0m                                 Traceback (most recent call last)",
            "\u001b[1;32m<ipython-input-87-34fc7a11cb38>\u001b[0m in \u001b[0;36m<module>\u001b[1;34m\u001b[0m\n\u001b[1;32m----> 1\u001b[1;33m \u001b[0mt\u001b[0m\u001b[1;33m\u001b[0m\u001b[1;33m\u001b[0m\u001b[0m\n\u001b[0m",
            "\u001b[1;31mNameError\u001b[0m: name 't' is not defined"
          ]
        }
      ],
      "source": [
        "t"
      ]
    },
    {
      "cell_type": "code",
      "execution_count": null,
      "metadata": {
        "id": "1rvRYkPSd8c_"
      },
      "outputs": [],
      "source": [
        "del(l1)"
      ]
    },
    {
      "cell_type": "code",
      "execution_count": null,
      "metadata": {
        "id": "Jz6igNo5d8dA",
        "outputId": "20be60d0-adee-4909-e865-60a460f810fd"
      },
      "outputs": [
        {
          "ename": "NameError",
          "evalue": "name 'l1' is not defined",
          "output_type": "error",
          "traceback": [
            "\u001b[1;31m---------------------------------------------------------------------------\u001b[0m",
            "\u001b[1;31mNameError\u001b[0m                                 Traceback (most recent call last)",
            "\u001b[1;32m<ipython-input-89-6cf485bc2797>\u001b[0m in \u001b[0;36m<module>\u001b[1;34m\u001b[0m\n\u001b[1;32m----> 1\u001b[1;33m \u001b[0ml1\u001b[0m\u001b[1;33m\u001b[0m\u001b[1;33m\u001b[0m\u001b[0m\n\u001b[0m",
            "\u001b[1;31mNameError\u001b[0m: name 'l1' is not defined"
          ]
        }
      ],
      "source": [
        "l1"
      ]
    },
    {
      "cell_type": "code",
      "execution_count": null,
      "metadata": {
        "id": "SDO9u39Rd8dA"
      },
      "outputs": [],
      "source": [
        "l = [324,343,343,34]"
      ]
    },
    {
      "cell_type": "code",
      "execution_count": null,
      "metadata": {
        "id": "O_sdVYGod8dB",
        "outputId": "f0d98cf2-350c-4cfb-9b0a-8e1e27b2ea2e"
      },
      "outputs": [
        {
          "data": {
            "text/plain": [
              "(234, 54, 565)"
            ]
          },
          "execution_count": 92,
          "metadata": {},
          "output_type": "execute_result"
        }
      ],
      "source": [
        "t2"
      ]
    },
    {
      "cell_type": "code",
      "execution_count": null,
      "metadata": {
        "id": "zXpmEfdld8dB"
      },
      "outputs": [],
      "source": [
        "x = set()"
      ]
    },
    {
      "cell_type": "code",
      "execution_count": null,
      "metadata": {
        "id": "CT6Ucdawd8dB",
        "outputId": "a8f81860-4eae-4523-b4d0-8ca183d206ba"
      },
      "outputs": [
        {
          "data": {
            "text/plain": [
              "set"
            ]
          },
          "execution_count": 94,
          "metadata": {},
          "output_type": "execute_result"
        }
      ],
      "source": [
        "type(x)"
      ]
    },
    {
      "cell_type": "code",
      "execution_count": null,
      "metadata": {
        "id": "6sSugIFMd8dC"
      },
      "outputs": [],
      "source": [
        "l = [34,45,45,45,45,67,34,56,78,\"sudh\",\"sudh\",\"Sudh\",\"kumar\" ,45,454545454,545,4545,545 , [3,45,6]]"
      ]
    },
    {
      "cell_type": "code",
      "execution_count": null,
      "metadata": {
        "id": "9mGW8Vold8dC",
        "outputId": "0658f309-bc43-4e5b-bf4b-f6f0e853128e"
      },
      "outputs": [
        {
          "ename": "TypeError",
          "evalue": "unhashable type: 'list'",
          "output_type": "error",
          "traceback": [
            "\u001b[1;31m---------------------------------------------------------------------------\u001b[0m",
            "\u001b[1;31mTypeError\u001b[0m                                 Traceback (most recent call last)",
            "\u001b[1;32m<ipython-input-124-3c7060e5ad20>\u001b[0m in \u001b[0;36m<module>\u001b[1;34m\u001b[0m\n\u001b[1;32m----> 1\u001b[1;33m \u001b[0ms\u001b[0m \u001b[1;33m=\u001b[0m \u001b[0mset\u001b[0m\u001b[1;33m(\u001b[0m\u001b[0ml\u001b[0m\u001b[1;33m)\u001b[0m\u001b[1;33m\u001b[0m\u001b[1;33m\u001b[0m\u001b[0m\n\u001b[0m",
            "\u001b[1;31mTypeError\u001b[0m: unhashable type: 'list'"
          ]
        }
      ],
      "source": [
        "s = set(l)"
      ]
    },
    {
      "cell_type": "code",
      "execution_count": null,
      "metadata": {
        "id": "lJ2lbj6Vd8dD",
        "outputId": "5d146b68-f633-4ca6-aa9e-cf27f10a2da6"
      },
      "outputs": [
        {
          "data": {
            "text/plain": [
              "{34, 45, 4545, 454545454, 545, 56, 67, 78, 'Sudh', 'kumar', 'sudh'}"
            ]
          },
          "execution_count": 115,
          "metadata": {},
          "output_type": "execute_result"
        }
      ],
      "source": [
        "s"
      ]
    },
    {
      "cell_type": "code",
      "execution_count": null,
      "metadata": {
        "id": "tLn2QNghd8dD",
        "outputId": "00c2ea64-8e77-41b6-b92d-3ed6d89e4e03"
      },
      "outputs": [
        {
          "name": "stdout",
          "output_type": "stream",
          "text": [
            "34\n",
            "67\n",
            "45\n",
            "78\n",
            "Sudh\n",
            "kumar\n",
            "56\n",
            "sudh\n"
          ]
        }
      ],
      "source": [
        "for i in s :\n",
        "    print(i)"
      ]
    },
    {
      "cell_type": "code",
      "execution_count": null,
      "metadata": {
        "id": "Y6OMkD8Ed8dE",
        "outputId": "5afbcbb0-4746-4c89-877f-6cf79a9f67fb"
      },
      "outputs": [
        {
          "data": {
            "text/plain": [
              "True"
            ]
          },
          "execution_count": 102,
          "metadata": {},
          "output_type": "execute_result"
        }
      ],
      "source": [
        "34 in s "
      ]
    },
    {
      "cell_type": "code",
      "execution_count": null,
      "metadata": {
        "id": "mfMO2BbQd8dE",
        "outputId": "eaeae057-b455-4acf-fdf5-04f6bcba32e7"
      },
      "outputs": [
        {
          "ename": "TypeError",
          "evalue": "'set' object is not subscriptable",
          "output_type": "error",
          "traceback": [
            "\u001b[1;31m---------------------------------------------------------------------------\u001b[0m",
            "\u001b[1;31mTypeError\u001b[0m                                 Traceback (most recent call last)",
            "\u001b[1;32m<ipython-input-106-c9c96910e542>\u001b[0m in \u001b[0;36m<module>\u001b[1;34m\u001b[0m\n\u001b[1;32m----> 1\u001b[1;33m \u001b[0ms\u001b[0m\u001b[1;33m[\u001b[0m\u001b[1;36m0\u001b[0m\u001b[1;33m]\u001b[0m\u001b[1;33m\u001b[0m\u001b[1;33m\u001b[0m\u001b[0m\n\u001b[0m",
            "\u001b[1;31mTypeError\u001b[0m: 'set' object is not subscriptable"
          ]
        }
      ],
      "source": [
        "s[0]"
      ]
    },
    {
      "cell_type": "code",
      "execution_count": null,
      "metadata": {
        "id": "f7lcxxetd8dF",
        "outputId": "8742dcea-a743-44fd-bab1-028d0cd62727"
      },
      "outputs": [
        {
          "data": {
            "text/plain": [
              "set()"
            ]
          },
          "execution_count": 117,
          "metadata": {},
          "output_type": "execute_result"
        }
      ],
      "source": [
        "s = set()\n",
        "s"
      ]
    },
    {
      "cell_type": "code",
      "execution_count": null,
      "metadata": {
        "id": "Elhb7SSCd8dF"
      },
      "outputs": [],
      "source": [
        "s.add(45)"
      ]
    },
    {
      "cell_type": "code",
      "execution_count": null,
      "metadata": {
        "id": "sofQAYsjd8dG",
        "outputId": "ceba241b-b6e6-4bec-f3cf-a139d065fa67"
      },
      "outputs": [
        {
          "data": {
            "text/plain": [
              "{45}"
            ]
          },
          "execution_count": 119,
          "metadata": {},
          "output_type": "execute_result"
        }
      ],
      "source": [
        "s"
      ]
    },
    {
      "cell_type": "code",
      "execution_count": null,
      "metadata": {
        "id": "KvmcZl8Od8dG"
      },
      "outputs": [],
      "source": [
        "s.add(\"sudh\")"
      ]
    },
    {
      "cell_type": "code",
      "execution_count": null,
      "metadata": {
        "id": "oAHW64ggd8dG"
      },
      "outputs": [],
      "source": [
        "s.add(\"fsdfsfs\")"
      ]
    },
    {
      "cell_type": "code",
      "execution_count": null,
      "metadata": {
        "id": "SQMM_-umd8dH",
        "outputId": "9b5a4f94-b67f-468c-85cf-9d3165335653"
      },
      "outputs": [
        {
          "ename": "TypeError",
          "evalue": "unhashable type: 'list'",
          "output_type": "error",
          "traceback": [
            "\u001b[1;31m---------------------------------------------------------------------------\u001b[0m",
            "\u001b[1;31mTypeError\u001b[0m                                 Traceback (most recent call last)",
            "\u001b[1;32m<ipython-input-122-27fd4cc9406d>\u001b[0m in \u001b[0;36m<module>\u001b[1;34m\u001b[0m\n\u001b[1;32m----> 1\u001b[1;33m \u001b[0ms\u001b[0m\u001b[1;33m.\u001b[0m\u001b[0madd\u001b[0m\u001b[1;33m(\u001b[0m\u001b[1;33m[\u001b[0m\u001b[1;36m2344455\u001b[0m\u001b[1;33m,\u001b[0m\u001b[1;36m454\u001b[0m\u001b[1;33m]\u001b[0m\u001b[1;33m)\u001b[0m\u001b[1;33m\u001b[0m\u001b[1;33m\u001b[0m\u001b[0m\n\u001b[0m",
            "\u001b[1;31mTypeError\u001b[0m: unhashable type: 'list'"
          ]
        }
      ],
      "source": [
        "s.add([2344455,454])"
      ]
    },
    {
      "cell_type": "code",
      "execution_count": null,
      "metadata": {
        "id": "-eQ6N4qid8dH",
        "outputId": "caa37837-8e6c-4809-d11f-fa7ee4adb998"
      },
      "outputs": [
        {
          "data": {
            "text/plain": [
              "{45, 'fsdfsfs', 'sudh'}"
            ]
          },
          "execution_count": 125,
          "metadata": {},
          "output_type": "execute_result"
        }
      ],
      "source": [
        "s"
      ]
    },
    {
      "cell_type": "code",
      "execution_count": null,
      "metadata": {
        "id": "JtQpEFQud8dI"
      },
      "outputs": [],
      "source": [
        "s.add(45)"
      ]
    },
    {
      "cell_type": "code",
      "execution_count": null,
      "metadata": {
        "id": "2FVetwQKd8dI",
        "outputId": "8b2f4084-f9d7-4d62-a557-6aafaa6037cd"
      },
      "outputs": [
        {
          "data": {
            "text/plain": [
              "{45, 'fsdfsfs', 'sudh'}"
            ]
          },
          "execution_count": 127,
          "metadata": {},
          "output_type": "execute_result"
        }
      ],
      "source": [
        "s"
      ]
    },
    {
      "cell_type": "code",
      "execution_count": null,
      "metadata": {
        "id": "5TSrRdOed8dJ",
        "outputId": "6cd93b21-14fd-4779-99eb-a92f5ff80257"
      },
      "outputs": [
        {
          "data": {
            "text/plain": [
              "{45, 'fsdfsfs', 'sudh'}"
            ]
          },
          "execution_count": 128,
          "metadata": {},
          "output_type": "execute_result"
        }
      ],
      "source": [
        "s"
      ]
    },
    {
      "cell_type": "code",
      "execution_count": null,
      "metadata": {
        "id": "7bbcjVHld8dJ",
        "outputId": "2b5fe671-64e1-4f89-960e-3e5a0fe77c92"
      },
      "outputs": [
        {
          "ename": "KeyError",
          "evalue": "45",
          "output_type": "error",
          "traceback": [
            "\u001b[1;31m---------------------------------------------------------------------------\u001b[0m",
            "\u001b[1;31mKeyError\u001b[0m                                  Traceback (most recent call last)",
            "\u001b[1;32m<ipython-input-131-30b5ee21a9a0>\u001b[0m in \u001b[0;36m<module>\u001b[1;34m\u001b[0m\n\u001b[1;32m----> 1\u001b[1;33m \u001b[0ms\u001b[0m\u001b[1;33m.\u001b[0m\u001b[0mremove\u001b[0m\u001b[1;33m(\u001b[0m\u001b[1;36m45\u001b[0m\u001b[1;33m)\u001b[0m\u001b[1;33m\u001b[0m\u001b[1;33m\u001b[0m\u001b[0m\n\u001b[0m",
            "\u001b[1;31mKeyError\u001b[0m: 45"
          ]
        }
      ],
      "source": [
        "s.remove(45)"
      ]
    },
    {
      "cell_type": "code",
      "execution_count": null,
      "metadata": {
        "id": "HnWQZ8Ood8dK",
        "outputId": "7b73adad-2351-426d-8844-bd6ea9467351"
      },
      "outputs": [
        {
          "data": {
            "text/plain": [
              "{'fsdfsfs', 'sudh'}"
            ]
          },
          "execution_count": 130,
          "metadata": {},
          "output_type": "execute_result"
        }
      ],
      "source": [
        "s"
      ]
    },
    {
      "cell_type": "code",
      "execution_count": null,
      "metadata": {
        "id": "ZefQMP31d8dK",
        "outputId": "584edc13-d0b4-4ebb-c18d-86cbcec59ea3"
      },
      "outputs": [
        {
          "data": {
            "text/plain": [
              "False"
            ]
          },
          "execution_count": 132,
          "metadata": {},
          "output_type": "execute_result"
        }
      ],
      "source": [
        "45 in s"
      ]
    },
    {
      "cell_type": "code",
      "execution_count": null,
      "metadata": {
        "id": "0d7DsBHkd8dL"
      },
      "outputs": [],
      "source": [
        "s.clear()"
      ]
    },
    {
      "cell_type": "code",
      "execution_count": null,
      "metadata": {
        "id": "gZ11m4hed8dL",
        "outputId": "0bd61a6f-2e9a-42fa-adbc-6d2ce317bab9"
      },
      "outputs": [
        {
          "data": {
            "text/plain": [
              "set()"
            ]
          },
          "execution_count": 134,
          "metadata": {},
          "output_type": "execute_result"
        }
      ],
      "source": [
        "s"
      ]
    },
    {
      "cell_type": "code",
      "execution_count": null,
      "metadata": {
        "id": "BfrtVPNtd8dL",
        "outputId": "38bda2a6-2c0e-40f1-a275-33c746e93560"
      },
      "outputs": [
        {
          "data": {
            "text/plain": [
              "set()"
            ]
          },
          "execution_count": 135,
          "metadata": {},
          "output_type": "execute_result"
        }
      ],
      "source": [
        "s "
      ]
    },
    {
      "cell_type": "code",
      "execution_count": null,
      "metadata": {
        "id": "nIAaBZrFd8dM",
        "outputId": "c6a957f4-781d-49e1-82de-67b516352853"
      },
      "outputs": [
        {
          "data": {
            "text/plain": [
              "set()"
            ]
          },
          "execution_count": 137,
          "metadata": {},
          "output_type": "execute_result"
        }
      ],
      "source": [
        "s "
      ]
    },
    {
      "cell_type": "code",
      "execution_count": null,
      "metadata": {
        "id": "CT4yHp72d8dM"
      },
      "outputs": [],
      "source": [
        "s.add(\"sdfsd\")"
      ]
    },
    {
      "cell_type": "code",
      "execution_count": null,
      "metadata": {
        "id": "9879wDlkd8dN"
      },
      "outputs": [],
      "source": [
        "s.add(234)"
      ]
    },
    {
      "cell_type": "code",
      "execution_count": null,
      "metadata": {
        "id": "c3Nc11W5d8dN"
      },
      "outputs": [],
      "source": [
        "s.add(345)"
      ]
    },
    {
      "cell_type": "code",
      "execution_count": null,
      "metadata": {
        "id": "cfmGRKKed8dO"
      },
      "outputs": [],
      "source": [
        "s.add(\"wer\")"
      ]
    },
    {
      "cell_type": "code",
      "execution_count": null,
      "metadata": {
        "id": "q6QBBdFed8dO",
        "outputId": "e05674ce-9a04-4d66-b553-b82cf433bce6"
      },
      "outputs": [
        {
          "data": {
            "text/plain": [
              "{234, 345, 'sdfsd', 'wer'}"
            ]
          },
          "execution_count": 142,
          "metadata": {},
          "output_type": "execute_result"
        }
      ],
      "source": [
        "s"
      ]
    },
    {
      "cell_type": "code",
      "execution_count": null,
      "metadata": {
        "id": "yCq1xdi_d8dO"
      },
      "outputs": [],
      "source": [
        "s1 = set(l)"
      ]
    },
    {
      "cell_type": "code",
      "execution_count": null,
      "metadata": {
        "id": "fATBW5c9d8dP"
      },
      "outputs": [],
      "source": [
        "l = [345,5464566,54645,6546,4654,654,6]"
      ]
    },
    {
      "cell_type": "code",
      "execution_count": null,
      "metadata": {
        "id": "hA4NZZDtd8dP",
        "outputId": "2d5319fb-7cda-47f0-ab4d-2af6a54d9672"
      },
      "outputs": [
        {
          "data": {
            "text/plain": [
              "{6, 345, 654, 4654, 6546, 54645, 5464566}"
            ]
          },
          "execution_count": 147,
          "metadata": {},
          "output_type": "execute_result"
        }
      ],
      "source": [
        "s1"
      ]
    },
    {
      "cell_type": "code",
      "execution_count": null,
      "metadata": {
        "id": "QH6ogFs9d8dQ",
        "outputId": "6e9aac09-349f-4d3f-a230-db9e2f597c66"
      },
      "outputs": [
        {
          "ename": "TypeError",
          "evalue": "unsupported operand type(s) for +: 'set' and 'set'",
          "output_type": "error",
          "traceback": [
            "\u001b[1;31m---------------------------------------------------------------------------\u001b[0m",
            "\u001b[1;31mTypeError\u001b[0m                                 Traceback (most recent call last)",
            "\u001b[1;32m<ipython-input-148-e53cb767b11d>\u001b[0m in \u001b[0;36m<module>\u001b[1;34m\u001b[0m\n\u001b[1;32m----> 1\u001b[1;33m \u001b[0ms\u001b[0m \u001b[1;33m+\u001b[0m \u001b[0ms1\u001b[0m\u001b[1;33m\u001b[0m\u001b[1;33m\u001b[0m\u001b[0m\n\u001b[0m",
            "\u001b[1;31mTypeError\u001b[0m: unsupported operand type(s) for +: 'set' and 'set'"
          ]
        }
      ],
      "source": [
        "s + s1"
      ]
    },
    {
      "cell_type": "code",
      "execution_count": null,
      "metadata": {
        "id": "p1pNQyiLd8dQ",
        "outputId": "26bf2bee-1dda-4e19-a745-73c247bd8a0a"
      },
      "outputs": [
        {
          "ename": "TypeError",
          "evalue": "unsupported operand type(s) for *: 'set' and 'int'",
          "output_type": "error",
          "traceback": [
            "\u001b[1;31m---------------------------------------------------------------------------\u001b[0m",
            "\u001b[1;31mTypeError\u001b[0m                                 Traceback (most recent call last)",
            "\u001b[1;32m<ipython-input-149-bfe08a66835a>\u001b[0m in \u001b[0;36m<module>\u001b[1;34m\u001b[0m\n\u001b[1;32m----> 1\u001b[1;33m \u001b[0ms\u001b[0m \u001b[1;33m*\u001b[0m \u001b[1;36m4\u001b[0m\u001b[1;33m\u001b[0m\u001b[1;33m\u001b[0m\u001b[0m\n\u001b[0m",
            "\u001b[1;31mTypeError\u001b[0m: unsupported operand type(s) for *: 'set' and 'int'"
          ]
        }
      ],
      "source": [
        "s * 4"
      ]
    },
    {
      "cell_type": "code",
      "execution_count": null,
      "metadata": {
        "id": "SC4td0RAd8dR",
        "outputId": "47d359e6-c174-49d1-b2e6-f8d01e070e58"
      },
      "outputs": [
        {
          "data": {
            "text/plain": [
              "{234, 345, 'sdfsd', 'wer'}"
            ]
          },
          "execution_count": 150,
          "metadata": {},
          "output_type": "execute_result"
        }
      ],
      "source": [
        "s "
      ]
    },
    {
      "cell_type": "code",
      "execution_count": null,
      "metadata": {
        "id": "czO-bhABd8dR"
      },
      "outputs": [],
      "source": [
        "l4 = list(s)"
      ]
    },
    {
      "cell_type": "code",
      "execution_count": null,
      "metadata": {
        "id": "57Vz71EHd8dS"
      },
      "outputs": [],
      "source": [
        "l4.append(345)"
      ]
    },
    {
      "cell_type": "markdown",
      "metadata": {
        "id": "HsYKxp-0d8dS"
      },
      "source": [
        "#### "
      ]
    },
    {
      "cell_type": "code",
      "execution_count": null,
      "metadata": {
        "id": "E38VSLFVd8dV",
        "outputId": "66935bab-72b9-4e3f-b7d2-4d8fe8b1ccd4"
      },
      "outputs": [
        {
          "data": {
            "text/plain": [
              "['sdfsd', 345, 234, 'wer', 454, 345]"
            ]
          },
          "execution_count": 156,
          "metadata": {},
          "output_type": "execute_result"
        }
      ],
      "source": [
        "l4"
      ]
    },
    {
      "cell_type": "code",
      "execution_count": null,
      "metadata": {
        "id": "Oq_Sh4SLd8dV"
      },
      "outputs": [],
      "source": [
        " t4 = tuple(s)"
      ]
    },
    {
      "cell_type": "code",
      "execution_count": null,
      "metadata": {
        "id": "0S42ySo_d8dW",
        "outputId": "9052d46b-408e-4586-ac0d-83091807e019"
      },
      "outputs": [
        {
          "data": {
            "text/plain": [
              "{234, 345, 'sdfsd', 'wer'}"
            ]
          },
          "execution_count": 159,
          "metadata": {},
          "output_type": "execute_result"
        }
      ],
      "source": [
        "set(t4)"
      ]
    },
    {
      "cell_type": "code",
      "execution_count": null,
      "metadata": {
        "id": "yWBrTg4-d8dW",
        "outputId": "7bfa5c81-9161-44d1-bba9-867f2e189edc"
      },
      "outputs": [
        {
          "data": {
            "text/plain": [
              "{234, 345, 'sdfsd', 'wer'}"
            ]
          },
          "execution_count": 160,
          "metadata": {},
          "output_type": "execute_result"
        }
      ],
      "source": [
        "s "
      ]
    },
    {
      "cell_type": "code",
      "execution_count": null,
      "metadata": {
        "id": "WOzz7WJvd8dX",
        "outputId": "1115dbef-6bc8-4557-e9fd-0a65d4f6ce3b"
      },
      "outputs": [
        {
          "ename": "TypeError",
          "evalue": "'set' object does not support item assignment",
          "output_type": "error",
          "traceback": [
            "\u001b[1;31m---------------------------------------------------------------------------\u001b[0m",
            "\u001b[1;31mTypeError\u001b[0m                                 Traceback (most recent call last)",
            "\u001b[1;32m<ipython-input-162-0b3feb6a5a72>\u001b[0m in \u001b[0;36m<module>\u001b[1;34m\u001b[0m\n\u001b[1;32m----> 1\u001b[1;33m \u001b[0ms\u001b[0m\u001b[1;33m[\u001b[0m\u001b[1;36m0\u001b[0m\u001b[1;33m]\u001b[0m \u001b[1;33m=\u001b[0m \u001b[1;34m\"fsdfs\"\u001b[0m\u001b[1;33m\u001b[0m\u001b[1;33m\u001b[0m\u001b[0m\n\u001b[0m",
            "\u001b[1;31mTypeError\u001b[0m: 'set' object does not support item assignment"
          ]
        }
      ],
      "source": [
        "s[0] = \"fsdfs\""
      ]
    },
    {
      "cell_type": "code",
      "execution_count": null,
      "metadata": {
        "id": "R4cWDwDjd8dX"
      },
      "outputs": [],
      "source": [
        "x = {}"
      ]
    },
    {
      "cell_type": "code",
      "execution_count": null,
      "metadata": {
        "id": "vQRrGxcnd8dY",
        "outputId": "8fc02b94-cb7d-4da4-bb88-d2be1039bf0a"
      },
      "outputs": [
        {
          "data": {
            "text/plain": [
              "dict"
            ]
          },
          "execution_count": 164,
          "metadata": {},
          "output_type": "execute_result"
        }
      ],
      "source": [
        "type(x)"
      ]
    },
    {
      "cell_type": "code",
      "execution_count": null,
      "metadata": {
        "id": "-gdMy5-Rd8dZ"
      },
      "outputs": [],
      "source": [
        "x1 = {34,56}"
      ]
    },
    {
      "cell_type": "code",
      "execution_count": null,
      "metadata": {
        "id": "dOoa1ZNgd8dZ",
        "outputId": "11fd48b0-4f26-406c-84c4-f76eb44e421a"
      },
      "outputs": [
        {
          "data": {
            "text/plain": [
              "set"
            ]
          },
          "execution_count": 166,
          "metadata": {},
          "output_type": "execute_result"
        }
      ],
      "source": [
        "type(x1)"
      ]
    },
    {
      "cell_type": "code",
      "execution_count": null,
      "metadata": {
        "id": "cYbH_raDd8dZ"
      },
      "outputs": [],
      "source": [
        "x = {\"name \" :\"sudh\"  , \"age\": 3455}"
      ]
    },
    {
      "cell_type": "code",
      "execution_count": null,
      "metadata": {
        "id": "OzAsyxuFd8da",
        "outputId": "36d10236-7e36-4277-fcfe-2b24bfde873a"
      },
      "outputs": [
        {
          "data": {
            "text/plain": [
              "dict"
            ]
          },
          "execution_count": 168,
          "metadata": {},
          "output_type": "execute_result"
        }
      ],
      "source": [
        "type(x)"
      ]
    },
    {
      "cell_type": "code",
      "execution_count": null,
      "metadata": {
        "id": "sxjwTI2qd8db"
      },
      "outputs": [],
      "source": [
        "x1 = {\"name \" :\"sudh\"  , \"age\": 3455 ,True : {45,34545,454,54}, \"key\" : False , 34554:(45,45,45,45) , \"_sfsdf\" : [34,45,454,54,545]}"
      ]
    },
    {
      "cell_type": "code",
      "execution_count": null,
      "metadata": {
        "id": "1PJ4M770d8db",
        "outputId": "bc7d7417-4abc-442e-9105-5e0b2dc6fed9"
      },
      "outputs": [
        {
          "data": {
            "text/plain": [
              "{'name ': 'sudh',\n",
              " 'age': 3455,\n",
              " True: {45, 54, 454, 34545},\n",
              " 'key': False,\n",
              " 34554: (45, 45, 45, 45),\n",
              " '_sfsdf': [34, 45, 454, 54, 545]}"
            ]
          },
          "execution_count": 184,
          "metadata": {},
          "output_type": "execute_result"
        }
      ],
      "source": [
        "x1"
      ]
    },
    {
      "cell_type": "code",
      "execution_count": null,
      "metadata": {
        "id": "4eqSQcOKd8dc"
      },
      "outputs": [],
      "source": [
        "x2 = {\"name \" :{\"k1\":\"wer\",'k4' :[345,534535,534,]} , \"age\": 3455 ,True : {45,34545,454,54}, \"key\" : False , 34554:(45,45,45,45) , \"_sfsdf\" : [34,45,454,54,545]}"
      ]
    },
    {
      "cell_type": "code",
      "execution_count": null,
      "metadata": {
        "id": "vxjzcvmKd8dc",
        "outputId": "89627f53-6752-415b-e816-62dff65a7b1e"
      },
      "outputs": [
        {
          "data": {
            "text/plain": [
              "{'name ': {'k1': 'wer', 'k4': [345, 534535, 534]},\n",
              " 'age': 3455,\n",
              " True: {45, 54, 454, 34545},\n",
              " 'key': False,\n",
              " 34554: (45, 45, 45, 45),\n",
              " '_sfsdf': [34, 45, 454, 54, 545]}"
            ]
          },
          "execution_count": 186,
          "metadata": {},
          "output_type": "execute_result"
        }
      ],
      "source": [
        "x2"
      ]
    },
    {
      "cell_type": "code",
      "execution_count": null,
      "metadata": {
        "id": "fhuWjDAZd8dd"
      },
      "outputs": [],
      "source": [
        "x3 = {5:\"wer\",'k4' :[345,534535,534,]} "
      ]
    },
    {
      "cell_type": "code",
      "execution_count": null,
      "metadata": {
        "id": "5yOU0C2bd8dd",
        "outputId": "68c064f6-8a96-4989-da27-0e743549684c"
      },
      "outputs": [
        {
          "data": {
            "text/plain": [
              "4"
            ]
          },
          "execution_count": 194,
          "metadata": {},
          "output_type": "execute_result"
        }
      ],
      "source": [
        "l = [34,45,4,54]\n",
        "l[2]"
      ]
    },
    {
      "cell_type": "code",
      "execution_count": null,
      "metadata": {
        "id": "WJVU4KTMd8de",
        "outputId": "e96d12d1-b5c8-4a3b-fc86-988b6a446154"
      },
      "outputs": [
        {
          "data": {
            "text/plain": [
              "False"
            ]
          },
          "execution_count": 195,
          "metadata": {},
          "output_type": "execute_result"
        }
      ],
      "source": [
        "x2[\"key\"]"
      ]
    },
    {
      "cell_type": "code",
      "execution_count": null,
      "metadata": {
        "id": "bDl9ewS3d8de",
        "outputId": "2c7266fc-58c5-4a2d-933f-886d0388437c"
      },
      "outputs": [
        {
          "data": {
            "text/plain": [
              "(45, 45, 45, 45)"
            ]
          },
          "execution_count": 196,
          "metadata": {},
          "output_type": "execute_result"
        }
      ],
      "source": [
        "x2[34554]"
      ]
    },
    {
      "cell_type": "code",
      "execution_count": null,
      "metadata": {
        "id": "I6ETvSGzd8df",
        "outputId": "e6b2b01c-47b4-464c-8ee8-74e919af77fb"
      },
      "outputs": [
        {
          "data": {
            "text/plain": [
              "54"
            ]
          },
          "execution_count": 200,
          "metadata": {},
          "output_type": "execute_result"
        }
      ],
      "source": [
        "x2[\"_sfsdf\"][3]"
      ]
    },
    {
      "cell_type": "code",
      "execution_count": null,
      "metadata": {
        "id": "8J3rTtBZd8df",
        "outputId": "9e5d7c99-047f-49c0-8477-c8eb0f76d9ea"
      },
      "outputs": [
        {
          "data": {
            "text/plain": [
              "534"
            ]
          },
          "execution_count": 205,
          "metadata": {},
          "output_type": "execute_result"
        }
      ],
      "source": [
        "x2[\"name \"]['k4'][2]"
      ]
    },
    {
      "cell_type": "code",
      "execution_count": null,
      "metadata": {
        "id": "L6RZO12od8dg"
      },
      "outputs": [],
      "source": [
        "x3 = {5:\"wer\",'k4' :[345,534535,534,]} "
      ]
    },
    {
      "cell_type": "code",
      "execution_count": null,
      "metadata": {
        "id": "zCSMamNHd8dg"
      },
      "outputs": [],
      "source": [
        "x4 = {\"k4\" :\"Fsdfs\"}"
      ]
    },
    {
      "cell_type": "code",
      "execution_count": null,
      "metadata": {
        "id": "iutXsxZmd8dh",
        "outputId": "b05620a7-b8f3-4ace-84f6-deb75166fb37"
      },
      "outputs": [
        {
          "ename": "TypeError",
          "evalue": "unsupported operand type(s) for +: 'dict' and 'dict'",
          "output_type": "error",
          "traceback": [
            "\u001b[1;31m---------------------------------------------------------------------------\u001b[0m",
            "\u001b[1;31mTypeError\u001b[0m                                 Traceback (most recent call last)",
            "\u001b[1;32m<ipython-input-208-6b27f76da613>\u001b[0m in \u001b[0;36m<module>\u001b[1;34m\u001b[0m\n\u001b[1;32m----> 1\u001b[1;33m \u001b[0mx3\u001b[0m\u001b[1;33m+\u001b[0m\u001b[0mx4\u001b[0m\u001b[1;33m\u001b[0m\u001b[1;33m\u001b[0m\u001b[0m\n\u001b[0m",
            "\u001b[1;31mTypeError\u001b[0m: unsupported operand type(s) for +: 'dict' and 'dict'"
          ]
        }
      ],
      "source": [
        "x3+x4"
      ]
    },
    {
      "cell_type": "code",
      "execution_count": null,
      "metadata": {
        "id": "OtRL4q5Kd8dh",
        "outputId": "ac295fed-c65a-42ac-948c-d8535f122771"
      },
      "outputs": [
        {
          "ename": "TypeError",
          "evalue": "unsupported operand type(s) for *: 'dict' and 'int'",
          "output_type": "error",
          "traceback": [
            "\u001b[1;31m---------------------------------------------------------------------------\u001b[0m",
            "\u001b[1;31mTypeError\u001b[0m                                 Traceback (most recent call last)",
            "\u001b[1;32m<ipython-input-211-25847429fcd3>\u001b[0m in \u001b[0;36m<module>\u001b[1;34m\u001b[0m\n\u001b[1;32m----> 1\u001b[1;33m \u001b[0mx3\u001b[0m \u001b[1;33m*\u001b[0m \u001b[1;36m3\u001b[0m\u001b[1;33m\u001b[0m\u001b[1;33m\u001b[0m\u001b[0m\n\u001b[0m",
            "\u001b[1;31mTypeError\u001b[0m: unsupported operand type(s) for *: 'dict' and 'int'"
          ]
        }
      ],
      "source": [
        "x3 * 3"
      ]
    },
    {
      "cell_type": "code",
      "execution_count": null,
      "metadata": {
        "id": "1EvKWkQ3d8di",
        "outputId": "57a1c020-f8cc-4e4f-a542-350d5e9714a0"
      },
      "outputs": [
        {
          "data": {
            "text/plain": [
              "{5: 'wer', 'k4': [345, 534535, 534]}"
            ]
          },
          "execution_count": 212,
          "metadata": {},
          "output_type": "execute_result"
        }
      ],
      "source": [
        "x3 "
      ]
    },
    {
      "cell_type": "code",
      "execution_count": null,
      "metadata": {
        "id": "Z-oqDRW7d8di"
      },
      "outputs": [],
      "source": [
        "x3['k4'] = 456"
      ]
    },
    {
      "cell_type": "code",
      "execution_count": null,
      "metadata": {
        "id": "kasWR0_xd8dj",
        "outputId": "0fd687f1-c2b1-49b4-e4c7-701b98b824f5"
      },
      "outputs": [
        {
          "data": {
            "text/plain": [
              "{5: 'wer', 'k4': 456}"
            ]
          },
          "execution_count": 217,
          "metadata": {},
          "output_type": "execute_result"
        }
      ],
      "source": [
        "x3"
      ]
    },
    {
      "cell_type": "code",
      "execution_count": null,
      "metadata": {
        "id": "BOHmWNLId8dj"
      },
      "outputs": [],
      "source": [
        "x3['k4'] -= 10"
      ]
    },
    {
      "cell_type": "code",
      "execution_count": null,
      "metadata": {
        "id": "9E_0-5zqd8dk"
      },
      "outputs": [],
      "source": [
        "x3['k4'] = x3['k4'] -10"
      ]
    },
    {
      "cell_type": "code",
      "execution_count": null,
      "metadata": {
        "id": "JHWty8yrd8dk",
        "outputId": "d15c0b11-ec53-455b-c1ef-07962cf59a28"
      },
      "outputs": [
        {
          "data": {
            "text/plain": [
              "{5: 'wer', 'k4': 446}"
            ]
          },
          "execution_count": 219,
          "metadata": {},
          "output_type": "execute_result"
        }
      ],
      "source": [
        "x3"
      ]
    },
    {
      "cell_type": "code",
      "execution_count": null,
      "metadata": {
        "id": "jPYA26oSd8dl",
        "outputId": "fc8a2c6e-1e4c-41ca-dcf4-282eadd03b2d"
      },
      "outputs": [
        {
          "data": {
            "text/plain": [
              "True"
            ]
          },
          "execution_count": 222,
          "metadata": {},
          "output_type": "execute_result"
        }
      ],
      "source": [
        "'k4' in x3.keys()"
      ]
    },
    {
      "cell_type": "code",
      "execution_count": null,
      "metadata": {
        "id": "enEbRgEnd8dl",
        "outputId": "98c35137-66d2-4191-8c4f-11030e8f0f94"
      },
      "outputs": [
        {
          "data": {
            "text/plain": [
              "dict_keys([5, 'k4'])"
            ]
          },
          "execution_count": 223,
          "metadata": {},
          "output_type": "execute_result"
        }
      ],
      "source": [
        "x3.keys()"
      ]
    },
    {
      "cell_type": "code",
      "execution_count": null,
      "metadata": {
        "id": "ya2OkfTkd8dm",
        "outputId": "abb94c0a-fa06-4c75-fff5-352a8fa21795"
      },
      "outputs": [
        {
          "name": "stdout",
          "output_type": "stream",
          "text": [
            "wer\n",
            "446\n"
          ]
        }
      ],
      "source": [
        "for i in x3.keys() :\n",
        "    print(x3[i])"
      ]
    },
    {
      "cell_type": "code",
      "execution_count": null,
      "metadata": {
        "id": "gRcphV-hd8dm",
        "outputId": "ea742bb3-3c36-4e12-b0e1-f5b78d5dd508"
      },
      "outputs": [
        {
          "data": {
            "text/plain": [
              "{5: 'wer', 'k4': 446}"
            ]
          },
          "execution_count": 225,
          "metadata": {},
          "output_type": "execute_result"
        }
      ],
      "source": [
        "x3"
      ]
    },
    {
      "cell_type": "code",
      "execution_count": null,
      "metadata": {
        "id": "ic01u5dKd8dn",
        "outputId": "79d899c3-2bc1-4b21-955b-765d8a57ed7d"
      },
      "outputs": [
        {
          "data": {
            "text/plain": [
              "{'name ': {'k1': 'wer', 'k4': [345, 534535, 534]},\n",
              " 'age': 3455,\n",
              " True: {45, 54, 454, 34545},\n",
              " 'key': False,\n",
              " 34554: (45, 45, 45, 45),\n",
              " '_sfsdf': [34, 45, 454, 54, 545]}"
            ]
          },
          "execution_count": 227,
          "metadata": {},
          "output_type": "execute_result"
        }
      ],
      "source": [
        "x2 "
      ]
    },
    {
      "cell_type": "code",
      "execution_count": null,
      "metadata": {
        "id": "hmALNbw9d8dn",
        "outputId": "a824123c-3afd-479e-c158-903ae1fc9296"
      },
      "outputs": [
        {
          "data": {
            "text/plain": [
              "dict_keys(['name ', 'age', True, 'key', 34554, '_sfsdf'])"
            ]
          },
          "execution_count": 228,
          "metadata": {},
          "output_type": "execute_result"
        }
      ],
      "source": [
        "x2.keys()"
      ]
    },
    {
      "cell_type": "code",
      "execution_count": null,
      "metadata": {
        "id": "iTvR1BRhd8do",
        "outputId": "73b47f59-1cc1-4b35-e894-5ab539dcc701"
      },
      "outputs": [
        {
          "name": "stdout",
          "output_type": "stream",
          "text": [
            "<class 'dict'>\n",
            "<class 'int'>\n",
            "<class 'set'>\n",
            "<class 'bool'>\n",
            "<class 'tuple'>\n",
            "<class 'list'>\n"
          ]
        }
      ],
      "source": [
        "for i in x2.keys():\n",
        "    print(type(x2[i]))"
      ]
    },
    {
      "cell_type": "code",
      "execution_count": null,
      "metadata": {
        "id": "b1z003ZYd8do",
        "outputId": "c2e49bc1-17bf-4a42-ec10-b1fb87c853e0"
      },
      "outputs": [
        {
          "data": {
            "text/plain": [
              "dict_items([('name ', {'k1': 'wer', 'k4': [345, 534535, 534]}), ('age', 3455), (True, {54, 34545, 45, 454}), ('key', False), (34554, (45, 45, 45, 45)), ('_sfsdf', [34, 45, 454, 54, 545])])"
            ]
          },
          "execution_count": 232,
          "metadata": {},
          "output_type": "execute_result"
        }
      ],
      "source": [
        "x2.items()"
      ]
    },
    {
      "cell_type": "code",
      "execution_count": null,
      "metadata": {
        "scrolled": true,
        "id": "ZlXURu8Gd8dp",
        "outputId": "66b10455-d57e-45aa-883a-1ae62593bf7e"
      },
      "outputs": [
        {
          "name": "stdout",
          "output_type": "stream",
          "text": [
            "{'k1': 'wer', 'k4': [345, 534535, 534]}\n",
            "3455\n",
            "{54, 34545, 45, 454}\n",
            "False\n",
            "(45, 45, 45, 45)\n",
            "[34, 45, 454, 54, 545]\n"
          ]
        }
      ],
      "source": [
        "for i in x2.items():\n",
        "    print(i[1])"
      ]
    },
    {
      "cell_type": "code",
      "execution_count": null,
      "metadata": {
        "id": "towKRpLEd8dq"
      },
      "outputs": [],
      "source": [
        "x5 = {(34,56,56) : \"Fsdfsfsd\"}"
      ]
    },
    {
      "cell_type": "code",
      "execution_count": null,
      "metadata": {
        "id": "JZP-BMDVd8dq",
        "outputId": "541cb962-6a5e-4660-91f0-e02d4064ec9d"
      },
      "outputs": [
        {
          "data": {
            "text/plain": [
              "'Fsdfsfsd'"
            ]
          },
          "execution_count": 239,
          "metadata": {},
          "output_type": "execute_result"
        }
      ],
      "source": [
        "x5[(34,56,56) ]"
      ]
    },
    {
      "cell_type": "code",
      "execution_count": null,
      "metadata": {
        "id": "KnyBjgX4d8dr",
        "outputId": "3b60b69c-a1a5-4cbe-cbec-a74ddcee6df4"
      },
      "outputs": [
        {
          "data": {
            "text/plain": [
              "{'name ': {'k1': 'wer', 'k4': [345, 534535, 534]},\n",
              " 'age': 3455,\n",
              " True: {45, 54, 454, 34545},\n",
              " 'key': False,\n",
              " 34554: (45, 45, 45, 45),\n",
              " '_sfsdf': [34, 45, 454, 54, 545]}"
            ]
          },
          "execution_count": 240,
          "metadata": {},
          "output_type": "execute_result"
        }
      ],
      "source": [
        "x2"
      ]
    },
    {
      "cell_type": "code",
      "execution_count": null,
      "metadata": {
        "id": "2wxJbE5hd8dr",
        "outputId": "f3f4f57b-f6a4-4bed-96fa-c2ea29226b56"
      },
      "outputs": [
        {
          "data": {
            "text/plain": [
              "6"
            ]
          },
          "execution_count": 241,
          "metadata": {},
          "output_type": "execute_result"
        }
      ],
      "source": [
        "len(x2)"
      ]
    },
    {
      "cell_type": "code",
      "execution_count": null,
      "metadata": {
        "id": "msuGgD2Sd8ds",
        "outputId": "fa417481-e131-48d6-9544-8256242c3937"
      },
      "outputs": [
        {
          "data": {
            "text/plain": [
              "{45, 78, 89}"
            ]
          },
          "execution_count": 242,
          "metadata": {},
          "output_type": "execute_result"
        }
      ],
      "source": [
        "e = {56: {45, 78, 89}}\n",
        "e[56]\n"
      ]
    },
    {
      "cell_type": "code",
      "execution_count": null,
      "metadata": {
        "id": "TNYLSsUYd8dt",
        "outputId": "e13ab79c-7604-4440-fb91-42016ca63f6c"
      },
      "outputs": [
        {
          "data": {
            "text/plain": [
              "89"
            ]
          },
          "execution_count": 243,
          "metadata": {},
          "output_type": "execute_result"
        }
      ],
      "source": [
        "list(e[56])[0]\n"
      ]
    },
    {
      "cell_type": "code",
      "execution_count": null,
      "metadata": {
        "id": "COxtsWs5d8dt"
      },
      "outputs": [],
      "source": [
        "data=input(\"Enter the paragraph-->> \")\n",
        "\n",
        "# Q1\n",
        "data_list= data.split(\" \")\n",
        "\n",
        "# Q2\n",
        "no_duplicate=set(data_list)\n",
        "\n",
        "# Q3\n",
        "my_dict={}\n",
        "for i in no_duplicate:\n",
        "    my_dict[i]=\"akshat\"\n",
        "# my_dict\n",
        "\n",
        "# Q4\n",
        "tup_list=[]\n",
        "for i in my_dict.keys():\n",
        "    tup_list.append(my_dict[i])\n",
        "\n",
        "print(\"Tuple List-->> \",tuple(tup_list))\n",
        "\n",
        "\n",
        "    \n",
        "# Q5\n",
        "list_keys=[]\n",
        "for i in my_dict.keys():\n",
        "    list_keys.append(i)\n",
        "\n",
        "print(\"List Keys-->> \",list_keys)\n"
      ]
    },
    {
      "cell_type": "code",
      "execution_count": null,
      "metadata": {
        "id": "4f59MYKUd8du",
        "outputId": "1b46fcc3-193c-4a57-9540-4e2538308495"
      },
      "outputs": [
        {
          "name": "stdout",
          "output_type": "stream",
          "text": [
            "Enter the para:dfsafs fds adfas fsdfas dfasfd asdfdsfsa sfa\n"
          ]
        }
      ],
      "source": [
        "paragph = input(\"Enter the para:\")\n",
        "lst1=paragph.split(\" \")\n",
        "s1=set(lst1)\n",
        "dic1=dict.fromkeys(s1,'db')\n",
        "t1=tuple(dic1.keys())\n",
        "l2=list(dic1.values())\n"
      ]
    },
    {
      "cell_type": "code",
      "execution_count": null,
      "metadata": {
        "id": "Mt_Hb5vBd8du",
        "outputId": "56af9722-a6e5-4fbb-ddf1-036b96a47bc9"
      },
      "outputs": [
        {
          "data": {
            "text/plain": [
              "{'adfas', 'asdfdsfsa', 'dfasfd', 'dfsafs', 'fds', 'fsdfas', 'sfa'}"
            ]
          },
          "execution_count": 245,
          "metadata": {},
          "output_type": "execute_result"
        }
      ],
      "source": [
        "s1"
      ]
    },
    {
      "cell_type": "code",
      "execution_count": null,
      "metadata": {
        "id": "6iO9UaRCd8dv",
        "outputId": "65a0296b-36b1-4021-c357-cbb55f462ae1"
      },
      "outputs": [
        {
          "data": {
            "text/plain": [
              "{'sfa': 'db',\n",
              " 'dfsafs': 'db',\n",
              " 'adfas': 'db',\n",
              " 'dfasfd': 'db',\n",
              " 'fsdfas': 'db',\n",
              " 'asdfdsfsa': 'db',\n",
              " 'fds': 'db'}"
            ]
          },
          "execution_count": 246,
          "metadata": {},
          "output_type": "execute_result"
        }
      ],
      "source": [
        "dic1"
      ]
    },
    {
      "cell_type": "code",
      "execution_count": null,
      "metadata": {
        "id": "JGDnjr2Xd8dv",
        "outputId": "f6b01f1c-679d-4c91-9eeb-7e1dd58d0a1d"
      },
      "outputs": [
        {
          "data": {
            "text/plain": [
              "('sfa', 'dfsafs', 'adfas', 'dfasfd', 'fsdfas', 'asdfdsfsa', 'fds')"
            ]
          },
          "execution_count": 247,
          "metadata": {},
          "output_type": "execute_result"
        }
      ],
      "source": [
        "t1"
      ]
    },
    {
      "cell_type": "code",
      "execution_count": null,
      "metadata": {
        "id": "SalbqtUyd8dw",
        "outputId": "bb38490c-03f7-4a7f-99d3-c92cabe3d9df"
      },
      "outputs": [
        {
          "data": {
            "text/plain": [
              "['db', 'db', 'db', 'db', 'db', 'db', 'db']"
            ]
          },
          "execution_count": 248,
          "metadata": {},
          "output_type": "execute_result"
        }
      ],
      "source": [
        "l2"
      ]
    },
    {
      "cell_type": "code",
      "execution_count": null,
      "metadata": {
        "id": "9E7u7Yrxd8dw"
      },
      "outputs": [],
      "source": [
        "d = {\"company\":\"ineuron\" ,\"course\": \"full stack data science\" , \"year\" : 2021}"
      ]
    },
    {
      "cell_type": "code",
      "execution_count": null,
      "metadata": {
        "id": "a6LaNvYpd8dx",
        "outputId": "56fe5542-137e-4a07-ae9d-ff98d7ad8b6a"
      },
      "outputs": [
        {
          "name": "stdout",
          "output_type": "stream",
          "text": [
            " print a key  :  company  ;  value wise :   ineuron\n",
            " print a key  :  course  ;  value wise :   full stack data science\n",
            " print a key  :  year  ;  value wise :   2021\n"
          ]
        }
      ],
      "source": [
        "for i in d :\n",
        "    print(\" print a key  : \" ,i  , \" ; \", \"value wise :  \" , d[i])"
      ]
    },
    {
      "cell_type": "code",
      "execution_count": null,
      "metadata": {
        "id": "7gf0A12gd8dy",
        "outputId": "0a842ce9-d558-44a3-a6b9-0d2a88727549"
      },
      "outputs": [
        {
          "data": {
            "text/plain": [
              "True"
            ]
          },
          "execution_count": 254,
          "metadata": {},
          "output_type": "execute_result"
        }
      ],
      "source": [
        "\"course\" in d "
      ]
    },
    {
      "cell_type": "code",
      "execution_count": null,
      "metadata": {
        "id": "sxcWQT8Qd8dy",
        "outputId": "23077f05-e76f-4969-80e4-b2d936a7b908"
      },
      "outputs": [
        {
          "name": "stdout",
          "output_type": "stream",
          "text": [
            "year is fine \n"
          ]
        }
      ],
      "source": [
        "for i in d :\n",
        "    if i == 'year':\n",
        "        if d[i] > 2021:\n",
        "            print(\"year is fine \")\n",
        "        else :\n",
        "            d[i] = 2022"
      ]
    },
    {
      "cell_type": "code",
      "execution_count": null,
      "metadata": {
        "id": "OJSCl9Gzd8dz",
        "outputId": "09f75d8d-0a06-466d-a507-bad01b51ed7d"
      },
      "outputs": [
        {
          "data": {
            "text/plain": [
              "{'company': 'ineuron', 'course': 'full stack data science', 'year': 2022}"
            ]
          },
          "execution_count": 259,
          "metadata": {},
          "output_type": "execute_result"
        }
      ],
      "source": [
        "d"
      ]
    },
    {
      "cell_type": "code",
      "execution_count": null,
      "metadata": {
        "id": "VCPaSEXrd8dz"
      },
      "outputs": [],
      "source": [
        "my_dict = {}\n",
        "for i in range(10):\n",
        "    my_dict[i] = i *i"
      ]
    },
    {
      "cell_type": "code",
      "execution_count": null,
      "metadata": {
        "id": "rA2WpoHkd8dz",
        "outputId": "d8472e9f-87b9-4c04-a15c-af933c41286b"
      },
      "outputs": [
        {
          "data": {
            "text/plain": [
              "{0: 0, 1: 1, 2: 4, 3: 9, 4: 16, 5: 25, 6: 36, 7: 49, 8: 64, 9: 81}"
            ]
          },
          "execution_count": 261,
          "metadata": {},
          "output_type": "execute_result"
        }
      ],
      "source": [
        "my_dict"
      ]
    },
    {
      "cell_type": "code",
      "execution_count": null,
      "metadata": {
        "id": "PhQFJPGZd8d0",
        "outputId": "86a7c521-4f4d-4db2-8064-9546d692029b"
      },
      "outputs": [
        {
          "data": {
            "text/plain": [
              "{0: 0, 3: 9, 6: 36, 9: 81}"
            ]
          },
          "execution_count": 264,
          "metadata": {},
          "output_type": "execute_result"
        }
      ],
      "source": [
        "{i:i*i for i in range(0,10,3)}"
      ]
    },
    {
      "cell_type": "code",
      "execution_count": null,
      "metadata": {
        "id": "YMU_85R0d8d1"
      },
      "outputs": [],
      "source": [
        ""
      ]
    }
  ],
  "metadata": {
    "kernelspec": {
      "display_name": "Python 3",
      "language": "python",
      "name": "python3"
    },
    "language_info": {
      "codemirror_mode": {
        "name": "ipython",
        "version": 3
      },
      "file_extension": ".py",
      "mimetype": "text/x-python",
      "name": "python",
      "nbconvert_exporter": "python",
      "pygments_lexer": "ipython3",
      "version": "3.8.3"
    },
    "colab": {
      "name": "TUPLE SET AND DICT.ipynb",
      "provenance": [],
      "include_colab_link": true
    }
  },
  "nbformat": 4,
  "nbformat_minor": 0
}